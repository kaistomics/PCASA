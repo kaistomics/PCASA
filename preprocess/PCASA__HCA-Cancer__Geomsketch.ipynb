{
 "cells": [
  {
   "cell_type": "markdown",
   "metadata": {},
   "source": [
    "## Importing Modules"
   ]
  },
  {
   "cell_type": "code",
   "execution_count": 1,
   "metadata": {},
   "outputs": [
    {
     "name": "stderr",
     "output_type": "stream",
     "text": [
      "/home/junho/anaconda3/envs/py37/lib/python3.7/site-packages/sklearn/utils/deprecation.py:143: FutureWarning: The sklearn.cluster.k_means_ module is  deprecated in version 0.22 and will be removed in version 0.24. The corresponding classes / functions should instead be imported from sklearn.cluster. Anything that cannot be imported from sklearn.cluster is now part of the private API.\n",
      "  warnings.warn(message, FutureWarning)\n"
     ]
    }
   ],
   "source": [
    "%load_ext autoreload\n",
    "%autoreload 2\n",
    "import os, sys\n",
    "sys.path.append('/home/junho/script')\n",
    "import scjp"
   ]
  },
  {
   "cell_type": "code",
   "execution_count": 2,
   "metadata": {},
   "outputs": [],
   "source": [
    "# useful imports\n",
    "import numpy as np\n",
    "import scipy as scipy\n",
    "import scanpy as sc\n",
    "import scanpy.external as sce\n",
    "import pandas as pd\n",
    "pd.set_option('display.max_rows', 40)\n",
    "pd.set_option('display.max_columns', None)\n",
    "import pickle as pkl\n",
    "import matplotlib.pyplot as plt\n",
    "plt.rcParams['figure.figsize'] = [10,8]\n",
    "import seaborn as sns\n",
    "from collections import defaultdict, Counter\n",
    "import networkx as nx\n",
    "import igraph, re, glob\n",
    "from bbknn import bbknn\n",
    "from geosketch import gs\n",
    "import scrublet as scr\n",
    "import joblib as jl\n",
    "from datetime import datetime\n",
    "def timestamp():\n",
    "    return datetime.now().strftime(\"%y%m%d%H%M\")\n",
    "import logging\n",
    "import scipy.stats\n",
    "from SCCAF import *"
   ]
  },
  {
   "cell_type": "code",
   "execution_count": 3,
   "metadata": {},
   "outputs": [
    {
     "name": "stdout",
     "output_type": "stream",
     "text": [
      "Running Scanpy 1.7.2, on 2021-12-29 15:14.\n"
     ]
    }
   ],
   "source": [
    "# setting scanpy\n",
    "%matplotlib inline\n",
    "sc.settings.verbosity = 3\n",
    "sc.settings.set_figure_params(dpi=100, color_map='OrRd')\n",
    "sc.logging.print_version_and_date()"
   ]
  },
  {
   "cell_type": "code",
   "execution_count": 4,
   "metadata": {},
   "outputs": [
    {
     "name": "stdout",
     "output_type": "stream",
     "text": [
      "Version: CART07.v02.\n",
      "Data: HCA_Cancer\n"
     ]
    }
   ],
   "source": [
    "nb_name = 'CART07.v02.HCA_Cancer_Geosketch_211116'\n",
    "version = '.'.join(nb_name.split('.')[:2])+'.'\n",
    "data = '_'.join(nb_name.split('.')[-1:][0].split('_')[:-2])\n",
    "print('Version:', version)\n",
    "print('Data:', data)"
   ]
  },
  {
   "cell_type": "code",
   "execution_count": 5,
   "metadata": {},
   "outputs": [],
   "source": [
    "base_folder = '/home/junho/links/single_cell_rnaseq/'"
   ]
  },
  {
   "cell_type": "markdown",
   "metadata": {},
   "source": [
    "## V02: HCA+Tumor 합치고, 같이 geosketch + Tumor cell만 추가"
   ]
  },
  {
   "cell_type": "markdown",
   "metadata": {},
   "source": [
    "## Loading Adata"
   ]
  },
  {
   "cell_type": "code",
   "execution_count": 6,
   "metadata": {},
   "outputs": [
    {
     "name": "stderr",
     "output_type": "stream",
     "text": [
      "WARNING: Your filename has more than two extensions: ['.v01', '.hca_210819', '.h5ad'].\n",
      "Only considering the two last: ['.hca_210819', '.h5ad'].\n",
      "WARNING: Your filename has more than two extensions: ['.v01', '.hca_210819', '.h5ad'].\n",
      "Only considering the two last: ['.hca_210819', '.h5ad'].\n"
     ]
    }
   ],
   "source": [
    "hca = sc.read('%shealthy_control/healthy_merged_2021/CART05.v01.hca_210819.h5ad'%(base_folder))"
   ]
  },
  {
   "cell_type": "code",
   "execution_count": 7,
   "metadata": {},
   "outputs": [
    {
     "data": {
      "text/plain": [
       "AnnData object with n_obs × n_vars = 590120 × 5697\n",
       "    obs: 'Author', 'Organ', 'Organ_Specific', 'CellType_original', 'Batch', 'CellType', 'Method'\n",
       "    var: 'means', 'dispersions', 'dispersions_norm', 'mean', 'std'\n",
       "    uns: 'Author_colors', 'CellType_singler_colors', 'Organ_colors', 'neighbors', 'pca', 'umap'\n",
       "    obsm: 'X_pca', 'X_umap', 'X_umap_original'\n",
       "    varm: 'PCs'\n",
       "    obsp: 'connectivities', 'distances'"
      ]
     },
     "execution_count": 7,
     "metadata": {},
     "output_type": "execute_result"
    }
   ],
   "source": [
    "hca"
   ]
  },
  {
   "cell_type": "code",
   "execution_count": 8,
   "metadata": {},
   "outputs": [
    {
     "data": {
      "text/html": [
       "<div>\n",
       "<style scoped>\n",
       "    .dataframe tbody tr th:only-of-type {\n",
       "        vertical-align: middle;\n",
       "    }\n",
       "\n",
       "    .dataframe tbody tr th {\n",
       "        vertical-align: top;\n",
       "    }\n",
       "\n",
       "    .dataframe thead th {\n",
       "        text-align: right;\n",
       "    }\n",
       "</style>\n",
       "<table border=\"1\" class=\"dataframe\">\n",
       "  <thead>\n",
       "    <tr style=\"text-align: right;\">\n",
       "      <th></th>\n",
       "      <th>Author</th>\n",
       "      <th>Organ</th>\n",
       "      <th>Organ_Specific</th>\n",
       "      <th>CellType_original</th>\n",
       "      <th>Batch</th>\n",
       "      <th>CellType</th>\n",
       "      <th>Method</th>\n",
       "    </tr>\n",
       "  </thead>\n",
       "  <tbody>\n",
       "    <tr>\n",
       "      <th>LungTranscriptome7239220_LungTranscriptome7239220ACGGAGATCAAGGTAA-0</th>\n",
       "      <td>vieira19_Alveoli_and_parenchyma_anonymised</td>\n",
       "      <td>Lung</td>\n",
       "      <td>Lung_parenchyma</td>\n",
       "      <td>Ciliated</td>\n",
       "      <td>298C</td>\n",
       "      <td>Epithelial_cells</td>\n",
       "      <td>10X_3</td>\n",
       "    </tr>\n",
       "    <tr>\n",
       "      <th>LungTranscriptome7135919_GGCGTGTCATACCATG-0</th>\n",
       "      <td>vieira19_Alveoli_and_parenchyma_anonymised</td>\n",
       "      <td>Lung</td>\n",
       "      <td>Lung_parenchyma</td>\n",
       "      <td>Ciliated</td>\n",
       "      <td>290B</td>\n",
       "      <td>HSCs</td>\n",
       "      <td>10X_3</td>\n",
       "    </tr>\n",
       "    <tr>\n",
       "      <th>LungTranscriptome7135920_GCGACCATCAGTTAGC-0</th>\n",
       "      <td>vieira19_Alveoli_and_parenchyma_anonymised</td>\n",
       "      <td>Lung</td>\n",
       "      <td>Lung_parenchyma</td>\n",
       "      <td>Basal</td>\n",
       "      <td>290B</td>\n",
       "      <td>Epithelial_cells</td>\n",
       "      <td>10X_3</td>\n",
       "    </tr>\n",
       "    <tr>\n",
       "      <th>LungTranscriptome7239219_LungTranscriptome7239219CATTCGCAGCCGCCTA-0</th>\n",
       "      <td>vieira19_Alveoli_and_parenchyma_anonymised</td>\n",
       "      <td>Lung</td>\n",
       "      <td>Lung_parenchyma</td>\n",
       "      <td>Ciliated</td>\n",
       "      <td>298C</td>\n",
       "      <td>Epithelial_cells</td>\n",
       "      <td>10X_3</td>\n",
       "    </tr>\n",
       "    <tr>\n",
       "      <th>LungTranscriptome7135920_TCAACGAGTATCTGCA-0</th>\n",
       "      <td>vieira19_Alveoli_and_parenchyma_anonymised</td>\n",
       "      <td>Lung</td>\n",
       "      <td>Lung_parenchyma</td>\n",
       "      <td>Ciliated</td>\n",
       "      <td>290B</td>\n",
       "      <td>Epithelial_cells</td>\n",
       "      <td>10X_3</td>\n",
       "    </tr>\n",
       "    <tr>\n",
       "      <th>...</th>\n",
       "      <td>...</td>\n",
       "      <td>...</td>\n",
       "      <td>...</td>\n",
       "      <td>...</td>\n",
       "      <td>...</td>\n",
       "      <td>...</td>\n",
       "      <td>...</td>\n",
       "    </tr>\n",
       "    <tr>\n",
       "      <th>GSM4909273_N-MH275-Epi_TTTGTCACAGATGAGC-1-68</th>\n",
       "      <td>pal20_breast</td>\n",
       "      <td>Breast</td>\n",
       "      <td>Breast</td>\n",
       "      <td>ML</td>\n",
       "      <td>Patient_0275</td>\n",
       "      <td>Epithelial_cells</td>\n",
       "      <td>10X_3</td>\n",
       "    </tr>\n",
       "    <tr>\n",
       "      <th>GSM4909273_N-MH275-Epi_TTTGTCACATGCAACT-1-68</th>\n",
       "      <td>pal20_breast</td>\n",
       "      <td>Breast</td>\n",
       "      <td>Breast</td>\n",
       "      <td>LP</td>\n",
       "      <td>Patient_0275</td>\n",
       "      <td>Epithelial_cells</td>\n",
       "      <td>10X_3</td>\n",
       "    </tr>\n",
       "    <tr>\n",
       "      <th>GSM4909273_N-MH275-Epi_TTTGTCAGTAGGGACT-1-68</th>\n",
       "      <td>pal20_breast</td>\n",
       "      <td>Breast</td>\n",
       "      <td>Breast</td>\n",
       "      <td>LP</td>\n",
       "      <td>Patient_0275</td>\n",
       "      <td>Epithelial_cells</td>\n",
       "      <td>10X_3</td>\n",
       "    </tr>\n",
       "    <tr>\n",
       "      <th>GSM4909273_N-MH275-Epi_TTTGTCAGTATTCGTG-1-68</th>\n",
       "      <td>pal20_breast</td>\n",
       "      <td>Breast</td>\n",
       "      <td>Breast</td>\n",
       "      <td>ML</td>\n",
       "      <td>Patient_0275</td>\n",
       "      <td>Epithelial_cells</td>\n",
       "      <td>10X_3</td>\n",
       "    </tr>\n",
       "    <tr>\n",
       "      <th>GSM4909273_N-MH275-Epi_TTTGTCATCCTCTAGC-1-68</th>\n",
       "      <td>pal20_breast</td>\n",
       "      <td>Breast</td>\n",
       "      <td>Breast</td>\n",
       "      <td>ML</td>\n",
       "      <td>Patient_0275</td>\n",
       "      <td>Epithelial_cells</td>\n",
       "      <td>10X_3</td>\n",
       "    </tr>\n",
       "  </tbody>\n",
       "</table>\n",
       "<p>590120 rows × 7 columns</p>\n",
       "</div>"
      ],
      "text/plain": [
       "                                                                                        Author  \\\n",
       "LungTranscriptome7239220_LungTranscriptome72392...  vieira19_Alveoli_and_parenchyma_anonymised   \n",
       "LungTranscriptome7135919_GGCGTGTCATACCATG-0         vieira19_Alveoli_and_parenchyma_anonymised   \n",
       "LungTranscriptome7135920_GCGACCATCAGTTAGC-0         vieira19_Alveoli_and_parenchyma_anonymised   \n",
       "LungTranscriptome7239219_LungTranscriptome72392...  vieira19_Alveoli_and_parenchyma_anonymised   \n",
       "LungTranscriptome7135920_TCAACGAGTATCTGCA-0         vieira19_Alveoli_and_parenchyma_anonymised   \n",
       "...                                                                                        ...   \n",
       "GSM4909273_N-MH275-Epi_TTTGTCACAGATGAGC-1-68                                      pal20_breast   \n",
       "GSM4909273_N-MH275-Epi_TTTGTCACATGCAACT-1-68                                      pal20_breast   \n",
       "GSM4909273_N-MH275-Epi_TTTGTCAGTAGGGACT-1-68                                      pal20_breast   \n",
       "GSM4909273_N-MH275-Epi_TTTGTCAGTATTCGTG-1-68                                      pal20_breast   \n",
       "GSM4909273_N-MH275-Epi_TTTGTCATCCTCTAGC-1-68                                      pal20_breast   \n",
       "\n",
       "                                                     Organ   Organ_Specific  \\\n",
       "LungTranscriptome7239220_LungTranscriptome72392...    Lung  Lung_parenchyma   \n",
       "LungTranscriptome7135919_GGCGTGTCATACCATG-0           Lung  Lung_parenchyma   \n",
       "LungTranscriptome7135920_GCGACCATCAGTTAGC-0           Lung  Lung_parenchyma   \n",
       "LungTranscriptome7239219_LungTranscriptome72392...    Lung  Lung_parenchyma   \n",
       "LungTranscriptome7135920_TCAACGAGTATCTGCA-0           Lung  Lung_parenchyma   \n",
       "...                                                    ...              ...   \n",
       "GSM4909273_N-MH275-Epi_TTTGTCACAGATGAGC-1-68        Breast           Breast   \n",
       "GSM4909273_N-MH275-Epi_TTTGTCACATGCAACT-1-68        Breast           Breast   \n",
       "GSM4909273_N-MH275-Epi_TTTGTCAGTAGGGACT-1-68        Breast           Breast   \n",
       "GSM4909273_N-MH275-Epi_TTTGTCAGTATTCGTG-1-68        Breast           Breast   \n",
       "GSM4909273_N-MH275-Epi_TTTGTCATCCTCTAGC-1-68        Breast           Breast   \n",
       "\n",
       "                                                   CellType_original  \\\n",
       "LungTranscriptome7239220_LungTranscriptome72392...          Ciliated   \n",
       "LungTranscriptome7135919_GGCGTGTCATACCATG-0                 Ciliated   \n",
       "LungTranscriptome7135920_GCGACCATCAGTTAGC-0                    Basal   \n",
       "LungTranscriptome7239219_LungTranscriptome72392...          Ciliated   \n",
       "LungTranscriptome7135920_TCAACGAGTATCTGCA-0                 Ciliated   \n",
       "...                                                              ...   \n",
       "GSM4909273_N-MH275-Epi_TTTGTCACAGATGAGC-1-68                      ML   \n",
       "GSM4909273_N-MH275-Epi_TTTGTCACATGCAACT-1-68                      LP   \n",
       "GSM4909273_N-MH275-Epi_TTTGTCAGTAGGGACT-1-68                      LP   \n",
       "GSM4909273_N-MH275-Epi_TTTGTCAGTATTCGTG-1-68                      ML   \n",
       "GSM4909273_N-MH275-Epi_TTTGTCATCCTCTAGC-1-68                      ML   \n",
       "\n",
       "                                                           Batch  \\\n",
       "LungTranscriptome7239220_LungTranscriptome72392...          298C   \n",
       "LungTranscriptome7135919_GGCGTGTCATACCATG-0                 290B   \n",
       "LungTranscriptome7135920_GCGACCATCAGTTAGC-0                 290B   \n",
       "LungTranscriptome7239219_LungTranscriptome72392...          298C   \n",
       "LungTranscriptome7135920_TCAACGAGTATCTGCA-0                 290B   \n",
       "...                                                          ...   \n",
       "GSM4909273_N-MH275-Epi_TTTGTCACAGATGAGC-1-68        Patient_0275   \n",
       "GSM4909273_N-MH275-Epi_TTTGTCACATGCAACT-1-68        Patient_0275   \n",
       "GSM4909273_N-MH275-Epi_TTTGTCAGTAGGGACT-1-68        Patient_0275   \n",
       "GSM4909273_N-MH275-Epi_TTTGTCAGTATTCGTG-1-68        Patient_0275   \n",
       "GSM4909273_N-MH275-Epi_TTTGTCATCCTCTAGC-1-68        Patient_0275   \n",
       "\n",
       "                                                            CellType Method  \n",
       "LungTranscriptome7239220_LungTranscriptome72392...  Epithelial_cells  10X_3  \n",
       "LungTranscriptome7135919_GGCGTGTCATACCATG-0                     HSCs  10X_3  \n",
       "LungTranscriptome7135920_GCGACCATCAGTTAGC-0         Epithelial_cells  10X_3  \n",
       "LungTranscriptome7239219_LungTranscriptome72392...  Epithelial_cells  10X_3  \n",
       "LungTranscriptome7135920_TCAACGAGTATCTGCA-0         Epithelial_cells  10X_3  \n",
       "...                                                              ...    ...  \n",
       "GSM4909273_N-MH275-Epi_TTTGTCACAGATGAGC-1-68        Epithelial_cells  10X_3  \n",
       "GSM4909273_N-MH275-Epi_TTTGTCACATGCAACT-1-68        Epithelial_cells  10X_3  \n",
       "GSM4909273_N-MH275-Epi_TTTGTCAGTAGGGACT-1-68        Epithelial_cells  10X_3  \n",
       "GSM4909273_N-MH275-Epi_TTTGTCAGTATTCGTG-1-68        Epithelial_cells  10X_3  \n",
       "GSM4909273_N-MH275-Epi_TTTGTCATCCTCTAGC-1-68        Epithelial_cells  10X_3  \n",
       "\n",
       "[590120 rows x 7 columns]"
      ]
     },
     "execution_count": 8,
     "metadata": {},
     "output_type": "execute_result"
    }
   ],
   "source": [
    "hca.obs"
   ]
  },
  {
   "cell_type": "markdown",
   "metadata": {},
   "source": [
    "### Filter out Spleen, Esophagus Data d/t LQ dataset"
   ]
  },
  {
   "cell_type": "code",
   "execution_count": 9,
   "metadata": {},
   "outputs": [
    {
     "data": {
      "text/plain": [
       "['madissoon20_oesophagus', 'madissoon20_spleen']"
      ]
     },
     "execution_count": 9,
     "metadata": {},
     "output_type": "execute_result"
    }
   ],
   "source": [
    "madisoon = [x for x in set(hca.obs['Author']) if 'madissoon20' in x]\n",
    "madisoon"
   ]
  },
  {
   "cell_type": "code",
   "execution_count": 10,
   "metadata": {},
   "outputs": [
    {
     "name": "stderr",
     "output_type": "stream",
     "text": [
      "/home/junho/anaconda3/envs/py37/lib/python3.7/site-packages/anndata/_core/anndata.py:1094: FutureWarning: is_categorical is deprecated and will be removed in a future version.  Use is_categorical_dtype instead\n",
      "  if not is_categorical(df_full[k]):\n"
     ]
    }
   ],
   "source": [
    "hca = hca[~hca.obs['Author'].isin(madisoon)]"
   ]
  },
  {
   "cell_type": "code",
   "execution_count": 11,
   "metadata": {},
   "outputs": [
    {
     "data": {
      "text/plain": [
       "View of AnnData object with n_obs × n_vars = 407916 × 5697\n",
       "    obs: 'Author', 'Organ', 'Organ_Specific', 'CellType_original', 'Batch', 'CellType', 'Method'\n",
       "    var: 'means', 'dispersions', 'dispersions_norm', 'mean', 'std'\n",
       "    uns: 'Author_colors', 'CellType_singler_colors', 'Organ_colors', 'neighbors', 'pca', 'umap'\n",
       "    obsm: 'X_pca', 'X_umap', 'X_umap_original'\n",
       "    varm: 'PCs'\n",
       "    obsp: 'connectivities', 'distances'"
      ]
     },
     "execution_count": 11,
     "metadata": {},
     "output_type": "execute_result"
    }
   ],
   "source": [
    "hca"
   ]
  },
  {
   "cell_type": "code",
   "execution_count": 12,
   "metadata": {},
   "outputs": [
    {
     "data": {
      "text/html": [
       "<div>\n",
       "<style scoped>\n",
       "    .dataframe tbody tr th:only-of-type {\n",
       "        vertical-align: middle;\n",
       "    }\n",
       "\n",
       "    .dataframe tbody tr th {\n",
       "        vertical-align: top;\n",
       "    }\n",
       "\n",
       "    .dataframe thead th {\n",
       "        text-align: right;\n",
       "    }\n",
       "</style>\n",
       "<table border=\"1\" class=\"dataframe\">\n",
       "  <thead>\n",
       "    <tr style=\"text-align: right;\">\n",
       "      <th></th>\n",
       "      <th>Author</th>\n",
       "      <th>Organ</th>\n",
       "      <th>Organ_Specific</th>\n",
       "      <th>Method</th>\n",
       "    </tr>\n",
       "  </thead>\n",
       "  <tbody>\n",
       "    <tr>\n",
       "      <th>GSM4909268_N-MH0023-Total_AAACCTGAGAACAATC-1-0</th>\n",
       "      <td>pal20_breast</td>\n",
       "      <td>Breast</td>\n",
       "      <td>Breast</td>\n",
       "      <td>10X_3</td>\n",
       "    </tr>\n",
       "    <tr>\n",
       "      <th>AAGGAGCAGTTAGGTA_Colon-1_Enterocyte</th>\n",
       "      <td>wang20_colon</td>\n",
       "      <td>Colon</td>\n",
       "      <td>Colon</td>\n",
       "      <td>10X_3</td>\n",
       "    </tr>\n",
       "    <tr>\n",
       "      <th>AAACGGGAGGTGCAAC-1-Pan_T7935487</th>\n",
       "      <td>james20</td>\n",
       "      <td>Colon</td>\n",
       "      <td>Colon_immune_cells</td>\n",
       "      <td>10X_5</td>\n",
       "    </tr>\n",
       "    <tr>\n",
       "      <th>AAACCTGCAAGGCTCC-1-4861STDY7208411</th>\n",
       "      <td>james20</td>\n",
       "      <td>Colon</td>\n",
       "      <td>Colon_immune_cells</td>\n",
       "      <td>10X_3</td>\n",
       "    </tr>\n",
       "    <tr>\n",
       "      <th>ftCSMC01N__c00005</th>\n",
       "      <td>HQ.Dinh</td>\n",
       "      <td>Fallopian_tube</td>\n",
       "      <td>Fallopian_tube</td>\n",
       "      <td>10X_3</td>\n",
       "    </tr>\n",
       "    <tr>\n",
       "      <th>LA_1600_1_ACCCACTGTCGGCACT-1</th>\n",
       "      <td>tucker20_heart</td>\n",
       "      <td>Heart</td>\n",
       "      <td>Heart</td>\n",
       "      <td>10X_3</td>\n",
       "    </tr>\n",
       "    <tr>\n",
       "      <th>AAATGCCCAATCTGCA_Ileum-1_Enterocyte</th>\n",
       "      <td>wang20_ileum</td>\n",
       "      <td>Ileum</td>\n",
       "      <td>Ileum</td>\n",
       "      <td>10X_3</td>\n",
       "    </tr>\n",
       "    <tr>\n",
       "      <th>CZIKidney7632804_GCATGTATCCGAAGAG-1</th>\n",
       "      <td>stewart19_adult</td>\n",
       "      <td>Kidney</td>\n",
       "      <td>Kidney</td>\n",
       "      <td>10X_3</td>\n",
       "    </tr>\n",
       "    <tr>\n",
       "      <th>P1TLH_AAACCTGAGCAGCCTC_1</th>\n",
       "      <td>macparland18</td>\n",
       "      <td>Liver</td>\n",
       "      <td>Liver</td>\n",
       "      <td>10X_3</td>\n",
       "    </tr>\n",
       "    <tr>\n",
       "      <th>AAACCTGGTTGTGGCC-1-HCATisStab7509734</th>\n",
       "      <td>madissoon19_lung</td>\n",
       "      <td>Lung</td>\n",
       "      <td>Lung_parenchyma</td>\n",
       "      <td>10X_3</td>\n",
       "    </tr>\n",
       "    <tr>\n",
       "      <th>LungTranscriptome7239220_LungTranscriptome7239220ACGGAGATCAAGGTAA-0</th>\n",
       "      <td>vieira19_Alveoli_and_parenchyma_anonymised</td>\n",
       "      <td>Lung</td>\n",
       "      <td>Lung_parenchyma</td>\n",
       "      <td>10X_3</td>\n",
       "    </tr>\n",
       "    <tr>\n",
       "      <th>human1_lib1.final_cell_0005-0-pancreas</th>\n",
       "      <td>baron16</td>\n",
       "      <td>Pancreas</td>\n",
       "      <td>Pancreas</td>\n",
       "      <td>inDrop</td>\n",
       "    </tr>\n",
       "    <tr>\n",
       "      <th>AAACCTGAGAGACGAA-1-henry180</th>\n",
       "      <td>henry18_0</td>\n",
       "      <td>Prostate</td>\n",
       "      <td>Prostate</td>\n",
       "      <td>10X_3</td>\n",
       "    </tr>\n",
       "    <tr>\n",
       "      <th>AAACCTGAGCTGGAAC_Rectum-1_Enterocyte</th>\n",
       "      <td>wang20_rectum</td>\n",
       "      <td>Rectum</td>\n",
       "      <td>Rectum</td>\n",
       "      <td>10X_3</td>\n",
       "    </tr>\n",
       "    <tr>\n",
       "      <th>AAACCCATCAAGGTGG-1-macula_donor_1</th>\n",
       "      <td>voigt19</td>\n",
       "      <td>Retina</td>\n",
       "      <td>Retina</td>\n",
       "      <td>10X_3</td>\n",
       "    </tr>\n",
       "    <tr>\n",
       "      <th>AAACCCAAGTTACTCG-1</th>\n",
       "      <td>menon19</td>\n",
       "      <td>Retina</td>\n",
       "      <td>Retina</td>\n",
       "      <td>10X_3</td>\n",
       "    </tr>\n",
       "    <tr>\n",
       "      <th>SRR6860519_AAACCTGAGAAACCTA-guo18</th>\n",
       "      <td>guo18_donor</td>\n",
       "      <td>Testis</td>\n",
       "      <td>Testis</td>\n",
       "      <td>10X_3</td>\n",
       "    </tr>\n",
       "  </tbody>\n",
       "</table>\n",
       "</div>"
      ],
      "text/plain": [
       "                                                                                        Author  \\\n",
       "GSM4909268_N-MH0023-Total_AAACCTGAGAACAATC-1-0                                    pal20_breast   \n",
       "AAGGAGCAGTTAGGTA_Colon-1_Enterocyte                                               wang20_colon   \n",
       "AAACGGGAGGTGCAAC-1-Pan_T7935487                                                        james20   \n",
       "AAACCTGCAAGGCTCC-1-4861STDY7208411                                                     james20   \n",
       "ftCSMC01N__c00005                                                                      HQ.Dinh   \n",
       "LA_1600_1_ACCCACTGTCGGCACT-1                                                    tucker20_heart   \n",
       "AAATGCCCAATCTGCA_Ileum-1_Enterocyte                                               wang20_ileum   \n",
       "CZIKidney7632804_GCATGTATCCGAAGAG-1                                            stewart19_adult   \n",
       "P1TLH_AAACCTGAGCAGCCTC_1                                                          macparland18   \n",
       "AAACCTGGTTGTGGCC-1-HCATisStab7509734                                          madissoon19_lung   \n",
       "LungTranscriptome7239220_LungTranscriptome72392...  vieira19_Alveoli_and_parenchyma_anonymised   \n",
       "human1_lib1.final_cell_0005-0-pancreas                                                 baron16   \n",
       "AAACCTGAGAGACGAA-1-henry180                                                          henry18_0   \n",
       "AAACCTGAGCTGGAAC_Rectum-1_Enterocyte                                             wang20_rectum   \n",
       "AAACCCATCAAGGTGG-1-macula_donor_1                                                      voigt19   \n",
       "AAACCCAAGTTACTCG-1                                                                     menon19   \n",
       "SRR6860519_AAACCTGAGAAACCTA-guo18                                                  guo18_donor   \n",
       "\n",
       "                                                             Organ  \\\n",
       "GSM4909268_N-MH0023-Total_AAACCTGAGAACAATC-1-0              Breast   \n",
       "AAGGAGCAGTTAGGTA_Colon-1_Enterocyte                          Colon   \n",
       "AAACGGGAGGTGCAAC-1-Pan_T7935487                              Colon   \n",
       "AAACCTGCAAGGCTCC-1-4861STDY7208411                           Colon   \n",
       "ftCSMC01N__c00005                                   Fallopian_tube   \n",
       "LA_1600_1_ACCCACTGTCGGCACT-1                                 Heart   \n",
       "AAATGCCCAATCTGCA_Ileum-1_Enterocyte                          Ileum   \n",
       "CZIKidney7632804_GCATGTATCCGAAGAG-1                         Kidney   \n",
       "P1TLH_AAACCTGAGCAGCCTC_1                                     Liver   \n",
       "AAACCTGGTTGTGGCC-1-HCATisStab7509734                          Lung   \n",
       "LungTranscriptome7239220_LungTranscriptome72392...            Lung   \n",
       "human1_lib1.final_cell_0005-0-pancreas                    Pancreas   \n",
       "AAACCTGAGAGACGAA-1-henry180                               Prostate   \n",
       "AAACCTGAGCTGGAAC_Rectum-1_Enterocyte                        Rectum   \n",
       "AAACCCATCAAGGTGG-1-macula_donor_1                           Retina   \n",
       "AAACCCAAGTTACTCG-1                                          Retina   \n",
       "SRR6860519_AAACCTGAGAAACCTA-guo18                           Testis   \n",
       "\n",
       "                                                        Organ_Specific  Method  \n",
       "GSM4909268_N-MH0023-Total_AAACCTGAGAACAATC-1-0                  Breast   10X_3  \n",
       "AAGGAGCAGTTAGGTA_Colon-1_Enterocyte                              Colon   10X_3  \n",
       "AAACGGGAGGTGCAAC-1-Pan_T7935487                     Colon_immune_cells   10X_5  \n",
       "AAACCTGCAAGGCTCC-1-4861STDY7208411                  Colon_immune_cells   10X_3  \n",
       "ftCSMC01N__c00005                                       Fallopian_tube   10X_3  \n",
       "LA_1600_1_ACCCACTGTCGGCACT-1                                     Heart   10X_3  \n",
       "AAATGCCCAATCTGCA_Ileum-1_Enterocyte                              Ileum   10X_3  \n",
       "CZIKidney7632804_GCATGTATCCGAAGAG-1                             Kidney   10X_3  \n",
       "P1TLH_AAACCTGAGCAGCCTC_1                                         Liver   10X_3  \n",
       "AAACCTGGTTGTGGCC-1-HCATisStab7509734                   Lung_parenchyma   10X_3  \n",
       "LungTranscriptome7239220_LungTranscriptome72392...     Lung_parenchyma   10X_3  \n",
       "human1_lib1.final_cell_0005-0-pancreas                        Pancreas  inDrop  \n",
       "AAACCTGAGAGACGAA-1-henry180                                   Prostate   10X_3  \n",
       "AAACCTGAGCTGGAAC_Rectum-1_Enterocyte                            Rectum   10X_3  \n",
       "AAACCCATCAAGGTGG-1-macula_donor_1                               Retina   10X_3  \n",
       "AAACCCAAGTTACTCG-1                                              Retina   10X_3  \n",
       "SRR6860519_AAACCTGAGAAACCTA-guo18                               Testis   10X_3  "
      ]
     },
     "execution_count": 12,
     "metadata": {},
     "output_type": "execute_result"
    }
   ],
   "source": [
    "hca.obs['Author,Organ,Organ_Specific,Method'.split(',')].drop_duplicates().sort_values('Organ')"
   ]
  },
  {
   "cell_type": "markdown",
   "metadata": {},
   "source": [
    "## Refining CellType annotation"
   ]
  },
  {
   "cell_type": "code",
   "execution_count": 14,
   "metadata": {},
   "outputs": [
    {
     "data": {
      "text/plain": [
       "{'Adipocytes',\n",
       " 'Astrocytes',\n",
       " 'B-cells',\n",
       " 'BM_&_Progs',\n",
       " 'B_cells',\n",
       " 'CD4+_T-cells',\n",
       " 'CD8+_T-cells',\n",
       " 'CMPs',\n",
       " 'Chondrocytes',\n",
       " 'DCs',\n",
       " 'Embryonic_stem_cells',\n",
       " 'Endothelial_cells',\n",
       " 'Eosinophils',\n",
       " 'Epithelial_cells',\n",
       " 'Erythroblasts',\n",
       " 'Erythrocytes',\n",
       " 'Fibroblasts',\n",
       " 'GMPs',\n",
       " 'Gametocytes',\n",
       " 'HSC_-G-CSFs',\n",
       " 'HSCs',\n",
       " 'Hepatocytes',\n",
       " 'Keratinocytes',\n",
       " 'Macrophages',\n",
       " 'Melanocytes',\n",
       " 'Mesangial_cells',\n",
       " 'Monocytes',\n",
       " 'Myelocytes',\n",
       " 'Myocytes',\n",
       " 'NK_cells',\n",
       " 'Neuroepithelial_cells',\n",
       " 'Neurons',\n",
       " 'Neutrophils',\n",
       " 'Osteoblasts',\n",
       " 'Pericytes',\n",
       " 'Platelets',\n",
       " 'Pro-B_cell_CD34+s',\n",
       " 'Skeletal_muscles',\n",
       " 'Smooth_muscle_cells',\n",
       " 'Smooth_muscles',\n",
       " 'T_cells',\n",
       " 'Tissue_stem_cells',\n",
       " 'iPS_cells'}"
      ]
     },
     "execution_count": 14,
     "metadata": {},
     "output_type": "execute_result"
    }
   ],
   "source": [
    "set(hca.obs['CellType'])"
   ]
  },
  {
   "cell_type": "code",
   "execution_count": 15,
   "metadata": {},
   "outputs": [],
   "source": [
    "newct = []\n",
    "for f in hca.obs['CellType']:\n",
    "    if f[-1]=='s':\n",
    "        newct.append(f[:-1])\n",
    "    else:\n",
    "        newct.append(f)"
   ]
  },
  {
   "cell_type": "code",
   "execution_count": 16,
   "metadata": {},
   "outputs": [
    {
     "name": "stderr",
     "output_type": "stream",
     "text": [
      "Trying to set attribute `.obs` of view, copying.\n"
     ]
    }
   ],
   "source": [
    "hca.obs['CellType_new'] = newct"
   ]
  },
  {
   "cell_type": "code",
   "execution_count": 18,
   "metadata": {},
   "outputs": [],
   "source": [
    "hca.obs['CellType_new'] = ['Dendritic_cell' if 'DC' in x else x for x in hca.obs['CellType_new']]"
   ]
  },
  {
   "cell_type": "code",
   "execution_count": 19,
   "metadata": {},
   "outputs": [],
   "source": [
    "hca.obs['CellType_new'] = ['B_cell' if 'B-cell' in x else x for x in hca.obs['CellType_new']]"
   ]
  },
  {
   "cell_type": "code",
   "execution_count": 20,
   "metadata": {},
   "outputs": [
    {
     "data": {
      "text/plain": [
       "{'Adipocyte',\n",
       " 'Astrocyte',\n",
       " 'BM_&_Prog',\n",
       " 'B_cell',\n",
       " 'CD4+_T-cell',\n",
       " 'CD8+_T-cell',\n",
       " 'CMP',\n",
       " 'Chondrocyte',\n",
       " 'Dendritic_cell',\n",
       " 'Embryonic_stem_cell',\n",
       " 'Endothelial_cell',\n",
       " 'Eosinophil',\n",
       " 'Epithelial_cell',\n",
       " 'Erythroblast',\n",
       " 'Erythrocyte',\n",
       " 'Fibroblast',\n",
       " 'GMP',\n",
       " 'Gametocyte',\n",
       " 'HSC',\n",
       " 'HSC_-G-CSF',\n",
       " 'Hepatocyte',\n",
       " 'Keratinocyte',\n",
       " 'Macrophage',\n",
       " 'Melanocyte',\n",
       " 'Mesangial_cell',\n",
       " 'Monocyte',\n",
       " 'Myelocyte',\n",
       " 'Myocyte',\n",
       " 'NK_cell',\n",
       " 'Neuroepithelial_cell',\n",
       " 'Neuron',\n",
       " 'Neutrophil',\n",
       " 'Osteoblast',\n",
       " 'Pericyte',\n",
       " 'Platelet',\n",
       " 'Pro-B_cell_CD34+',\n",
       " 'Skeletal_muscle',\n",
       " 'Smooth_muscle',\n",
       " 'Smooth_muscle_cell',\n",
       " 'T_cell',\n",
       " 'Tissue_stem_cell',\n",
       " 'iPS_cell'}"
      ]
     },
     "execution_count": 20,
     "metadata": {},
     "output_type": "execute_result"
    }
   ],
   "source": [
    "set(hca.obs['CellType_new'])"
   ]
  },
  {
   "cell_type": "code",
   "execution_count": 21,
   "metadata": {},
   "outputs": [],
   "source": [
    "hca.obs['CellType'] = hca.obs['CellType_new'].copy()"
   ]
  },
  {
   "cell_type": "code",
   "execution_count": 22,
   "metadata": {},
   "outputs": [],
   "source": [
    "del hca.obs['CellType_new']"
   ]
  },
  {
   "cell_type": "code",
   "execution_count": 25,
   "metadata": {},
   "outputs": [
    {
     "name": "stderr",
     "output_type": "stream",
     "text": [
      "/home/junho/anaconda3/envs/py37/lib/python3.7/site-packages/anndata/_core/anndata.py:1192: FutureWarning: is_categorical is deprecated and will be removed in a future version.  Use is_categorical_dtype instead\n",
      "  if is_string_dtype(df[key]) and not is_categorical(df[key])\n",
      "... storing 'CellType' as categorical\n"
     ]
    }
   ],
   "source": [
    "hca.write('%shealthy_control/healthy_merged_2021/%s%s.h5ad'%(base_folder, version, 'hca_annorefine_211116'))"
   ]
  },
  {
   "cell_type": "code",
   "execution_count": 6,
   "metadata": {},
   "outputs": [
    {
     "name": "stderr",
     "output_type": "stream",
     "text": [
      "WARNING: Your filename has more than two extensions: ['.v02', '.hca_annorefine_211116', '.h5ad'].\n",
      "Only considering the two last: ['.hca_annorefine_211116', '.h5ad'].\n",
      "WARNING: Your filename has more than two extensions: ['.v02', '.hca_annorefine_211116', '.h5ad'].\n",
      "Only considering the two last: ['.hca_annorefine_211116', '.h5ad'].\n"
     ]
    }
   ],
   "source": [
    "hca=sc.read('%shealthy_control/healthy_merged_2021/%s%s.h5ad'%(base_folder, version, 'hca_annorefine_211116'))"
   ]
  },
  {
   "cell_type": "code",
   "execution_count": 11,
   "metadata": {},
   "outputs": [
    {
     "name": "stderr",
     "output_type": "stream",
     "text": [
      "/home/junho/anaconda3/envs/py37/lib/python3.7/site-packages/anndata/_core/anndata.py:1094: FutureWarning: is_categorical is deprecated and will be removed in a future version.  Use is_categorical_dtype instead\n",
      "  if not is_categorical(df_full[k]):\n"
     ]
    }
   ],
   "source": [
    "hca = hca[hca.obs['Organ']!='Testis']"
   ]
  },
  {
   "cell_type": "code",
   "execution_count": 18,
   "metadata": {},
   "outputs": [
    {
     "data": {
      "text/plain": [
       "View of AnnData object with n_obs × n_vars = 401717 × 5697\n",
       "    obs: 'Author', 'Organ', 'Organ_Specific', 'CellType_original', 'Batch', 'CellType', 'Method'\n",
       "    var: 'means', 'dispersions', 'dispersions_norm', 'mean', 'std'\n",
       "    uns: 'Author_colors', 'CellType_singler_colors', 'Organ_colors', 'neighbors', 'pca', 'umap'\n",
       "    obsm: 'X_pca', 'X_umap', 'X_umap_original'\n",
       "    varm: 'PCs'\n",
       "    obsp: 'connectivities', 'distances'"
      ]
     },
     "execution_count": 18,
     "metadata": {},
     "output_type": "execute_result"
    }
   ],
   "source": [
    "hca"
   ]
  },
  {
   "cell_type": "code",
   "execution_count": 12,
   "metadata": {},
   "outputs": [
    {
     "data": {
      "text/plain": [
       "Counter({'Lung': 69991,\n",
       "         'Pancreas': 7714,\n",
       "         'Prostate': 32921,\n",
       "         'Colon': 45979,\n",
       "         'Liver': 8444,\n",
       "         'Kidney': 40268,\n",
       "         'Retina': 24426,\n",
       "         'Ileum': 5980,\n",
       "         'Rectum': 3797,\n",
       "         'Heart': 50000,\n",
       "         'Fallopian_tube': 4715,\n",
       "         'Breast': 107482})"
      ]
     },
     "execution_count": 12,
     "metadata": {},
     "output_type": "execute_result"
    }
   ],
   "source": [
    "Counter(hca.obs['Organ'])"
   ]
  },
  {
   "cell_type": "code",
   "execution_count": 19,
   "metadata": {
    "scrolled": true
   },
   "outputs": [
    {
     "data": {
      "text/plain": [
       "{'vieira19_Alveoli_and_parenchyma_anonymised': 'Lung',\n",
       " 'madissoon19_lung': 'Lung',\n",
       " 'baron16': 'Pancreas',\n",
       " 'henry18_0': 'Prostate',\n",
       " 'james20': 'Colon',\n",
       " 'macparland18': 'Liver',\n",
       " 'stewart19_adult': 'Kidney',\n",
       " 'voigt19': 'Retina',\n",
       " 'menon19': 'Retina',\n",
       " 'wang20_colon': 'Colon',\n",
       " 'wang20_ileum': 'Ileum',\n",
       " 'wang20_rectum': 'Rectum',\n",
       " 'tucker20_heart': 'Heart',\n",
       " 'HQ.Dinh': 'Fallopian_tube',\n",
       " 'pal20_breast': 'Breast'}"
      ]
     },
     "execution_count": 19,
     "metadata": {},
     "output_type": "execute_result"
    }
   ],
   "source": [
    "{a:b for a,b in zip(hca.obs['Author'],hca.obs['Organ'])}"
   ]
  },
  {
   "cell_type": "markdown",
   "metadata": {},
   "source": [
    "## Cancer Dataset Calling & Merging"
   ]
  },
  {
   "cell_type": "code",
   "execution_count": 13,
   "metadata": {},
   "outputs": [],
   "source": [
    "tumor = sc.read('%scancer_h5ad/total_merged.h5ad'%(base_folder))"
   ]
  },
  {
   "cell_type": "code",
   "execution_count": 14,
   "metadata": {},
   "outputs": [
    {
     "data": {
      "text/plain": [
       "AnnData object with n_obs × n_vars = 528152 × 36601\n",
       "    obs: 'CellType', 'Author', 'Organ', 'Organ_Specific', 'Batch', 'Method', 'name'"
      ]
     },
     "execution_count": 14,
     "metadata": {},
     "output_type": "execute_result"
    }
   ],
   "source": [
    "tumor"
   ]
  },
  {
   "cell_type": "code",
   "execution_count": 15,
   "metadata": {},
   "outputs": [
    {
     "data": {
      "text/plain": [
       "Counter({'Liver_Cancer': 62295,\n",
       "         'Ovary_Cancer': 41117,\n",
       "         'Lung_Cancer': 164127,\n",
       "         'Colon_Cancer': 75254,\n",
       "         'Pancreas_Cancer': 83733,\n",
       "         'Breast_Cancer': 101626})"
      ]
     },
     "execution_count": 15,
     "metadata": {},
     "output_type": "execute_result"
    }
   ],
   "source": [
    "Counter(tumor.obs['Organ'])"
   ]
  },
  {
   "cell_type": "code",
   "execution_count": 17,
   "metadata": {},
   "outputs": [
    {
     "data": {
      "text/plain": [
       "{'Ankur_Sharma': 'Liver_Cancer',\n",
       " 'Lichun.Ma': 'Liver_Cancer',\n",
       " 'OH.Lee': 'Colon_Cancer',\n",
       " 'Junbin.Qian': 'Breast_Cancer',\n",
       " 'Qian': 'Colon_Cancer',\n",
       " 'di.Magliano.MP': 'Pancreas_Cancer',\n",
       " 'Sun.BaoFa': 'Pancreas_Cancer',\n",
       " 'Sunny.Z.Wu': 'Breast_Cancer'}"
      ]
     },
     "execution_count": 17,
     "metadata": {},
     "output_type": "execute_result"
    }
   ],
   "source": [
    "{a:b for a,b in zip(tumor.obs['Author'],tumor.obs['Organ'])}"
   ]
  },
  {
   "cell_type": "code",
   "execution_count": 31,
   "metadata": {},
   "outputs": [
    {
     "name": "stderr",
     "output_type": "stream",
     "text": [
      "/home/junho/anaconda3/envs/py37/lib/python3.7/site-packages/anndata/_core/anndata.py:1094: FutureWarning: is_categorical is deprecated and will be removed in a future version.  Use is_categorical_dtype instead\n",
      "  if not is_categorical(df_full[k]):\n"
     ]
    }
   ],
   "source": [
    "tum = tumor[tumor.obs['CellType']=='Tumor_cells']"
   ]
  },
  {
   "cell_type": "code",
   "execution_count": 32,
   "metadata": {},
   "outputs": [],
   "source": [
    "tum_index = list(tum.obs.index)"
   ]
  },
  {
   "cell_type": "code",
   "execution_count": 33,
   "metadata": {},
   "outputs": [
    {
     "data": {
      "text/plain": [
       "92335"
      ]
     },
     "execution_count": 33,
     "metadata": {},
     "output_type": "execute_result"
    }
   ],
   "source": [
    "len(tum_index)"
   ]
  },
  {
   "cell_type": "code",
   "execution_count": 35,
   "metadata": {},
   "outputs": [
    {
     "data": {
      "text/plain": [
       "92335"
      ]
     },
     "execution_count": 35,
     "metadata": {},
     "output_type": "execute_result"
    }
   ],
   "source": [
    "len(np.unique(tum_index))"
   ]
  },
  {
   "cell_type": "markdown",
   "metadata": {},
   "source": [
    "## Merging HCA with Tumor Data"
   ]
  },
  {
   "cell_type": "code",
   "execution_count": 36,
   "metadata": {},
   "outputs": [],
   "source": [
    "ad = {'Normal':hca,'Tumor':tumor}"
   ]
  },
  {
   "cell_type": "code",
   "execution_count": 42,
   "metadata": {},
   "outputs": [
    {
     "name": "stdout",
     "output_type": "stream",
     "text": [
      "Normal\n",
      "Tumor\n",
      "936068\n",
      "Author\n",
      "Organ\n",
      "Organ_Specific\n",
      "CellType_original\n",
      "Batch\n",
      "CellType\n",
      "Method\n",
      "name\n"
     ]
    }
   ],
   "source": [
    "merged = scjp.merge_matrix(ad,use_raw=True)"
   ]
  },
  {
   "cell_type": "code",
   "execution_count": 43,
   "metadata": {},
   "outputs": [
    {
     "data": {
      "text/html": [
       "<div>\n",
       "<style scoped>\n",
       "    .dataframe tbody tr th:only-of-type {\n",
       "        vertical-align: middle;\n",
       "    }\n",
       "\n",
       "    .dataframe tbody tr th {\n",
       "        vertical-align: top;\n",
       "    }\n",
       "\n",
       "    .dataframe thead th {\n",
       "        text-align: right;\n",
       "    }\n",
       "</style>\n",
       "<table border=\"1\" class=\"dataframe\">\n",
       "  <thead>\n",
       "    <tr style=\"text-align: right;\">\n",
       "      <th></th>\n",
       "      <th>Author</th>\n",
       "      <th>Organ</th>\n",
       "      <th>Organ_Specific</th>\n",
       "      <th>CellType_original</th>\n",
       "      <th>Batch</th>\n",
       "      <th>CellType</th>\n",
       "      <th>Method</th>\n",
       "      <th>name</th>\n",
       "    </tr>\n",
       "  </thead>\n",
       "  <tbody>\n",
       "    <tr>\n",
       "      <th>LungTranscriptome7239220_LungTranscriptome7239220ACGGAGATCAAGGTAA-0</th>\n",
       "      <td>vieira19_Alveoli_and_parenchyma_anonymised</td>\n",
       "      <td>Lung</td>\n",
       "      <td>Lung_parenchyma</td>\n",
       "      <td>Ciliated</td>\n",
       "      <td>298C</td>\n",
       "      <td>Epithelial_cell</td>\n",
       "      <td>10X_3</td>\n",
       "      <td>Normal</td>\n",
       "    </tr>\n",
       "    <tr>\n",
       "      <th>LungTranscriptome7135919_GGCGTGTCATACCATG-0</th>\n",
       "      <td>vieira19_Alveoli_and_parenchyma_anonymised</td>\n",
       "      <td>Lung</td>\n",
       "      <td>Lung_parenchyma</td>\n",
       "      <td>Ciliated</td>\n",
       "      <td>290B</td>\n",
       "      <td>HSC</td>\n",
       "      <td>10X_3</td>\n",
       "      <td>Normal</td>\n",
       "    </tr>\n",
       "    <tr>\n",
       "      <th>LungTranscriptome7135920_GCGACCATCAGTTAGC-0</th>\n",
       "      <td>vieira19_Alveoli_and_parenchyma_anonymised</td>\n",
       "      <td>Lung</td>\n",
       "      <td>Lung_parenchyma</td>\n",
       "      <td>Basal</td>\n",
       "      <td>290B</td>\n",
       "      <td>Epithelial_cell</td>\n",
       "      <td>10X_3</td>\n",
       "      <td>Normal</td>\n",
       "    </tr>\n",
       "    <tr>\n",
       "      <th>LungTranscriptome7239219_LungTranscriptome7239219CATTCGCAGCCGCCTA-0</th>\n",
       "      <td>vieira19_Alveoli_and_parenchyma_anonymised</td>\n",
       "      <td>Lung</td>\n",
       "      <td>Lung_parenchyma</td>\n",
       "      <td>Ciliated</td>\n",
       "      <td>298C</td>\n",
       "      <td>Epithelial_cell</td>\n",
       "      <td>10X_3</td>\n",
       "      <td>Normal</td>\n",
       "    </tr>\n",
       "    <tr>\n",
       "      <th>LungTranscriptome7135920_TCAACGAGTATCTGCA-0</th>\n",
       "      <td>vieira19_Alveoli_and_parenchyma_anonymised</td>\n",
       "      <td>Lung</td>\n",
       "      <td>Lung_parenchyma</td>\n",
       "      <td>Ciliated</td>\n",
       "      <td>290B</td>\n",
       "      <td>Epithelial_cell</td>\n",
       "      <td>10X_3</td>\n",
       "      <td>Normal</td>\n",
       "    </tr>\n",
       "    <tr>\n",
       "      <th>...</th>\n",
       "      <td>...</td>\n",
       "      <td>...</td>\n",
       "      <td>...</td>\n",
       "      <td>...</td>\n",
       "      <td>...</td>\n",
       "      <td>...</td>\n",
       "      <td>...</td>\n",
       "      <td>...</td>\n",
       "    </tr>\n",
       "    <tr>\n",
       "      <th>bcCID4398N__c04444</th>\n",
       "      <td>Sunny.Z.Wu</td>\n",
       "      <td>Breast_Cancer</td>\n",
       "      <td>Breast</td>\n",
       "      <td>n/a</td>\n",
       "      <td>bcCID4398N</td>\n",
       "      <td>Dendritic_cell</td>\n",
       "      <td>10X_3</td>\n",
       "      <td>Tumor</td>\n",
       "    </tr>\n",
       "    <tr>\n",
       "      <th>bcCID4398N__c04445</th>\n",
       "      <td>Sunny.Z.Wu</td>\n",
       "      <td>Breast_Cancer</td>\n",
       "      <td>Breast</td>\n",
       "      <td>n/a</td>\n",
       "      <td>bcCID4398N</td>\n",
       "      <td>Dendritic_cell</td>\n",
       "      <td>10X_3</td>\n",
       "      <td>Tumor</td>\n",
       "    </tr>\n",
       "    <tr>\n",
       "      <th>bcCID4398N__c04447</th>\n",
       "      <td>Sunny.Z.Wu</td>\n",
       "      <td>Breast_Cancer</td>\n",
       "      <td>Breast</td>\n",
       "      <td>n/a</td>\n",
       "      <td>bcCID4398N</td>\n",
       "      <td>Dendritic_cell</td>\n",
       "      <td>10X_3</td>\n",
       "      <td>Tumor</td>\n",
       "    </tr>\n",
       "    <tr>\n",
       "      <th>bcCID4398N__c04450</th>\n",
       "      <td>Sunny.Z.Wu</td>\n",
       "      <td>Breast_Cancer</td>\n",
       "      <td>Breast</td>\n",
       "      <td>n/a</td>\n",
       "      <td>bcCID4398N</td>\n",
       "      <td>Dendritic_cell</td>\n",
       "      <td>10X_3</td>\n",
       "      <td>Tumor</td>\n",
       "    </tr>\n",
       "    <tr>\n",
       "      <th>bcCID4398N__c04451</th>\n",
       "      <td>Sunny.Z.Wu</td>\n",
       "      <td>Breast_Cancer</td>\n",
       "      <td>Breast</td>\n",
       "      <td>n/a</td>\n",
       "      <td>bcCID4398N</td>\n",
       "      <td>Dendritic_cell</td>\n",
       "      <td>10X_3</td>\n",
       "      <td>Tumor</td>\n",
       "    </tr>\n",
       "  </tbody>\n",
       "</table>\n",
       "<p>936068 rows × 8 columns</p>\n",
       "</div>"
      ],
      "text/plain": [
       "                                                                                        Author  \\\n",
       "LungTranscriptome7239220_LungTranscriptome72392...  vieira19_Alveoli_and_parenchyma_anonymised   \n",
       "LungTranscriptome7135919_GGCGTGTCATACCATG-0         vieira19_Alveoli_and_parenchyma_anonymised   \n",
       "LungTranscriptome7135920_GCGACCATCAGTTAGC-0         vieira19_Alveoli_and_parenchyma_anonymised   \n",
       "LungTranscriptome7239219_LungTranscriptome72392...  vieira19_Alveoli_and_parenchyma_anonymised   \n",
       "LungTranscriptome7135920_TCAACGAGTATCTGCA-0         vieira19_Alveoli_and_parenchyma_anonymised   \n",
       "...                                                                                        ...   \n",
       "bcCID4398N__c04444                                                                  Sunny.Z.Wu   \n",
       "bcCID4398N__c04445                                                                  Sunny.Z.Wu   \n",
       "bcCID4398N__c04447                                                                  Sunny.Z.Wu   \n",
       "bcCID4398N__c04450                                                                  Sunny.Z.Wu   \n",
       "bcCID4398N__c04451                                                                  Sunny.Z.Wu   \n",
       "\n",
       "                                                            Organ  \\\n",
       "LungTranscriptome7239220_LungTranscriptome72392...           Lung   \n",
       "LungTranscriptome7135919_GGCGTGTCATACCATG-0                  Lung   \n",
       "LungTranscriptome7135920_GCGACCATCAGTTAGC-0                  Lung   \n",
       "LungTranscriptome7239219_LungTranscriptome72392...           Lung   \n",
       "LungTranscriptome7135920_TCAACGAGTATCTGCA-0                  Lung   \n",
       "...                                                           ...   \n",
       "bcCID4398N__c04444                                  Breast_Cancer   \n",
       "bcCID4398N__c04445                                  Breast_Cancer   \n",
       "bcCID4398N__c04447                                  Breast_Cancer   \n",
       "bcCID4398N__c04450                                  Breast_Cancer   \n",
       "bcCID4398N__c04451                                  Breast_Cancer   \n",
       "\n",
       "                                                     Organ_Specific  \\\n",
       "LungTranscriptome7239220_LungTranscriptome72392...  Lung_parenchyma   \n",
       "LungTranscriptome7135919_GGCGTGTCATACCATG-0         Lung_parenchyma   \n",
       "LungTranscriptome7135920_GCGACCATCAGTTAGC-0         Lung_parenchyma   \n",
       "LungTranscriptome7239219_LungTranscriptome72392...  Lung_parenchyma   \n",
       "LungTranscriptome7135920_TCAACGAGTATCTGCA-0         Lung_parenchyma   \n",
       "...                                                             ...   \n",
       "bcCID4398N__c04444                                           Breast   \n",
       "bcCID4398N__c04445                                           Breast   \n",
       "bcCID4398N__c04447                                           Breast   \n",
       "bcCID4398N__c04450                                           Breast   \n",
       "bcCID4398N__c04451                                           Breast   \n",
       "\n",
       "                                                   CellType_original  \\\n",
       "LungTranscriptome7239220_LungTranscriptome72392...          Ciliated   \n",
       "LungTranscriptome7135919_GGCGTGTCATACCATG-0                 Ciliated   \n",
       "LungTranscriptome7135920_GCGACCATCAGTTAGC-0                    Basal   \n",
       "LungTranscriptome7239219_LungTranscriptome72392...          Ciliated   \n",
       "LungTranscriptome7135920_TCAACGAGTATCTGCA-0                 Ciliated   \n",
       "...                                                              ...   \n",
       "bcCID4398N__c04444                                               n/a   \n",
       "bcCID4398N__c04445                                               n/a   \n",
       "bcCID4398N__c04447                                               n/a   \n",
       "bcCID4398N__c04450                                               n/a   \n",
       "bcCID4398N__c04451                                               n/a   \n",
       "\n",
       "                                                         Batch  \\\n",
       "LungTranscriptome7239220_LungTranscriptome72392...        298C   \n",
       "LungTranscriptome7135919_GGCGTGTCATACCATG-0               290B   \n",
       "LungTranscriptome7135920_GCGACCATCAGTTAGC-0               290B   \n",
       "LungTranscriptome7239219_LungTranscriptome72392...        298C   \n",
       "LungTranscriptome7135920_TCAACGAGTATCTGCA-0               290B   \n",
       "...                                                        ...   \n",
       "bcCID4398N__c04444                                  bcCID4398N   \n",
       "bcCID4398N__c04445                                  bcCID4398N   \n",
       "bcCID4398N__c04447                                  bcCID4398N   \n",
       "bcCID4398N__c04450                                  bcCID4398N   \n",
       "bcCID4398N__c04451                                  bcCID4398N   \n",
       "\n",
       "                                                           CellType Method  \\\n",
       "LungTranscriptome7239220_LungTranscriptome72392...  Epithelial_cell  10X_3   \n",
       "LungTranscriptome7135919_GGCGTGTCATACCATG-0                     HSC  10X_3   \n",
       "LungTranscriptome7135920_GCGACCATCAGTTAGC-0         Epithelial_cell  10X_3   \n",
       "LungTranscriptome7239219_LungTranscriptome72392...  Epithelial_cell  10X_3   \n",
       "LungTranscriptome7135920_TCAACGAGTATCTGCA-0         Epithelial_cell  10X_3   \n",
       "...                                                             ...    ...   \n",
       "bcCID4398N__c04444                                   Dendritic_cell  10X_3   \n",
       "bcCID4398N__c04445                                   Dendritic_cell  10X_3   \n",
       "bcCID4398N__c04447                                   Dendritic_cell  10X_3   \n",
       "bcCID4398N__c04450                                   Dendritic_cell  10X_3   \n",
       "bcCID4398N__c04451                                   Dendritic_cell  10X_3   \n",
       "\n",
       "                                                      name  \n",
       "LungTranscriptome7239220_LungTranscriptome72392...  Normal  \n",
       "LungTranscriptome7135919_GGCGTGTCATACCATG-0         Normal  \n",
       "LungTranscriptome7135920_GCGACCATCAGTTAGC-0         Normal  \n",
       "LungTranscriptome7239219_LungTranscriptome72392...  Normal  \n",
       "LungTranscriptome7135920_TCAACGAGTATCTGCA-0         Normal  \n",
       "...                                                    ...  \n",
       "bcCID4398N__c04444                                   Tumor  \n",
       "bcCID4398N__c04445                                   Tumor  \n",
       "bcCID4398N__c04447                                   Tumor  \n",
       "bcCID4398N__c04450                                   Tumor  \n",
       "bcCID4398N__c04451                                   Tumor  \n",
       "\n",
       "[936068 rows x 8 columns]"
      ]
     },
     "execution_count": 43,
     "metadata": {},
     "output_type": "execute_result"
    }
   ],
   "source": [
    "merged.obs"
   ]
  },
  {
   "cell_type": "code",
   "execution_count": 44,
   "metadata": {},
   "outputs": [],
   "source": [
    "adata = merged.copy()"
   ]
  },
  {
   "cell_type": "code",
   "execution_count": 45,
   "metadata": {},
   "outputs": [
    {
     "name": "stdout",
     "output_type": "stream",
     "text": [
      "         max      mean  min  len_obs  len_var\n",
      "0  21.731197  0.070502  0.0   936068    36601\n"
     ]
    }
   ],
   "source": [
    "scjp.jhk.ad_summary(adata)"
   ]
  },
  {
   "cell_type": "code",
   "execution_count": 46,
   "metadata": {},
   "outputs": [],
   "source": [
    "adata.raw = adata"
   ]
  },
  {
   "cell_type": "code",
   "execution_count": 47,
   "metadata": {},
   "outputs": [
    {
     "data": {
      "text/plain": [
       "AnnData object with n_obs × n_vars = 936068 × 36601\n",
       "    obs: 'Author', 'Organ', 'Organ_Specific', 'CellType_original', 'Batch', 'CellType', 'Method', 'name'"
      ]
     },
     "execution_count": 47,
     "metadata": {},
     "output_type": "execute_result"
    }
   ],
   "source": [
    "adata"
   ]
  },
  {
   "cell_type": "code",
   "execution_count": 48,
   "metadata": {},
   "outputs": [
    {
     "data": {
      "text/plain": [
       "24"
      ]
     },
     "execution_count": 48,
     "metadata": {},
     "output_type": "execute_result"
    }
   ],
   "source": [
    "len(set(adata.obs['Author']))"
   ]
  },
  {
   "cell_type": "code",
   "execution_count": 50,
   "metadata": {},
   "outputs": [
    {
     "data": {
      "text/plain": [
       "Counter({'Adipocyte': 59249,\n",
       "         'Astrocyte': 6753,\n",
       "         'BM_&_Prog': 1,\n",
       "         'B_cell': 56442,\n",
       "         'CD4+_T-cell': 56759,\n",
       "         'CD8+_T-cell': 105797,\n",
       "         'CMP': 1,\n",
       "         'Chondrocyte': 965,\n",
       "         'Dendritic_cell': 2971,\n",
       "         'Embryonic_stem_cell': 42,\n",
       "         'Embryonic_stem_cells': 1,\n",
       "         'Endothelial_cell': 35895,\n",
       "         'Eosinophil': 25,\n",
       "         'Epithelial_cell': 155094,\n",
       "         'Erythroblast': 6,\n",
       "         'Erythrocyte': 4366,\n",
       "         'Fibroblast': 69596,\n",
       "         'GMP': 4,\n",
       "         'Gametocyte': 1141,\n",
       "         'HSC': 12384,\n",
       "         'HSC_-G-CSF': 2,\n",
       "         'Hepatocyte': 17734,\n",
       "         'Keratinocyte': 13093,\n",
       "         'MSC': 1,\n",
       "         'Macrophage': 80411,\n",
       "         'Melanocyte': 1188,\n",
       "         'Mesangial_cell': 8300,\n",
       "         'Monocyte': 59721,\n",
       "         'Muscle_cell': 485,\n",
       "         'Myelocyte': 4,\n",
       "         'Myocyte': 2185,\n",
       "         'NK_cell': 40621,\n",
       "         'Neuroepithelial_cell': 538,\n",
       "         'Neuron': 19559,\n",
       "         'Neutrophil': 2571,\n",
       "         'Osteoblast': 2,\n",
       "         'Pericyte': 2660,\n",
       "         'Platelet': 10,\n",
       "         'Pro-B_cell_CD34+': 2,\n",
       "         'Skeletal_muscle': 26491,\n",
       "         'Smooth_muscle': 390,\n",
       "         'Smooth_muscle_cell': 45,\n",
       "         'T_cell': 69,\n",
       "         'Tissue_stem_cell': 62,\n",
       "         'Tumor_cells': 92335,\n",
       "         'iPS_cell': 97})"
      ]
     },
     "execution_count": 50,
     "metadata": {},
     "output_type": "execute_result"
    }
   ],
   "source": [
    "Counter(sorted(adata.obs['CellType']))"
   ]
  },
  {
   "cell_type": "code",
   "execution_count": 51,
   "metadata": {},
   "outputs": [],
   "source": [
    "num = dict(Counter(adata.obs['Batch']))"
   ]
  },
  {
   "cell_type": "code",
   "execution_count": 52,
   "metadata": {},
   "outputs": [],
   "source": [
    "for f in num.items():\n",
    "    if f[1]<3:\n",
    "        print(f[0])"
   ]
  },
  {
   "cell_type": "markdown",
   "metadata": {},
   "source": [
    "## Geosketch HCA Data"
   ]
  },
  {
   "cell_type": "code",
   "execution_count": 54,
   "metadata": {},
   "outputs": [
    {
     "name": "stdout",
     "output_type": "stream",
     "text": [
      "Sun.BaoFa\n",
      "from: 50151\n"
     ]
    },
    {
     "name": "stderr",
     "output_type": "stream",
     "text": [
      "/home/junho/anaconda3/envs/py37/lib/python3.7/site-packages/anndata/_core/anndata.py:1094: FutureWarning: is_categorical is deprecated and will be removed in a future version.  Use is_categorical_dtype instead\n",
      "  if not is_categorical(df_full[k]):\n",
      "extracting highly variable genes\n",
      "    finished (0:00:00)\n",
      "/home/junho/anaconda3/envs/py37/lib/python3.7/site-packages/anndata/_core/anndata.py:1094: FutureWarning: is_categorical is deprecated and will be removed in a future version.  Use is_categorical_dtype instead\n",
      "  if not is_categorical(df_full[k]):\n",
      "... as `zero_center=True`, sparse input is densified and may lead to large memory consumption\n"
     ]
    },
    {
     "name": "stdout",
     "output_type": "stream",
     "text": [
      "removing cc_genes...\n"
     ]
    },
    {
     "name": "stderr",
     "output_type": "stream",
     "text": [
      "computing PCA\n",
      "    with n_comps=50\n",
      "    finished (0:00:13)\n",
      "computing neighbors\n",
      "    using 'X_pca' with n_pcs = 50\n",
      "    finished: added to `.uns['neighbors']`\n",
      "    `.obsp['distances']`, distances for each pair of neighbors\n",
      "    `.obsp['connectivities']`, weighted adjacency matrix (0:00:17)\n",
      "computing Diffusion Maps using n_comps=15(=n_dcs)\n",
      "computing transitions\n",
      "    finished (0:00:00)\n",
      "    eigenvalues of transition matrix\n",
      "    [1.         0.99941355 0.9988128  0.99855596 0.998423   0.998305\n",
      "     0.99820524 0.9981662  0.99779123 0.9975768  0.9968231  0.9965378\n",
      "     0.99561113 0.99545807 0.9952841 ]\n",
      "    finished: added\n",
      "    'X_diffmap', diffmap coordinates (adata.obsm)\n",
      "    'diffmap_evals', eigenvalues of transition matrix (adata.uns) (0:00:02)\n"
     ]
    },
    {
     "name": "stdout",
     "output_type": "stream",
     "text": [
      "to select: 10000\n",
      "length of sketch: 17068\n",
      "wang20_colon\n",
      "from: 4329\n"
     ]
    },
    {
     "name": "stderr",
     "output_type": "stream",
     "text": [
      "/home/junho/anaconda3/envs/py37/lib/python3.7/site-packages/anndata/_core/anndata.py:1094: FutureWarning: is_categorical is deprecated and will be removed in a future version.  Use is_categorical_dtype instead\n",
      "  if not is_categorical(df_full[k]):\n",
      "extracting highly variable genes\n",
      "    finished (0:00:00)\n",
      "/home/junho/anaconda3/envs/py37/lib/python3.7/site-packages/anndata/_core/anndata.py:1094: FutureWarning: is_categorical is deprecated and will be removed in a future version.  Use is_categorical_dtype instead\n",
      "  if not is_categorical(df_full[k]):\n",
      "... as `zero_center=True`, sparse input is densified and may lead to large memory consumption\n"
     ]
    },
    {
     "name": "stdout",
     "output_type": "stream",
     "text": [
      "removing cc_genes...\n"
     ]
    },
    {
     "name": "stderr",
     "output_type": "stream",
     "text": [
      "computing PCA\n",
      "    with n_comps=50\n",
      "    finished (0:00:01)\n",
      "computing neighbors\n",
      "    using 'X_pca' with n_pcs = 50\n",
      "    finished: added to `.uns['neighbors']`\n",
      "    `.obsp['distances']`, distances for each pair of neighbors\n",
      "    `.obsp['connectivities']`, weighted adjacency matrix (0:00:00)\n",
      "computing Diffusion Maps using n_comps=15(=n_dcs)\n",
      "computing transitions\n",
      "    finished (0:00:00)\n",
      "    eigenvalues of transition matrix\n",
      "    [1.         0.9877017  0.97910464 0.9755915  0.9733827  0.9591512\n",
      "     0.9444579  0.9435502  0.9386775  0.93792737 0.9282256  0.9254417\n",
      "     0.9234139  0.91993153 0.9114524 ]\n",
      "    finished: added\n",
      "    'X_diffmap', diffmap coordinates (adata.obsm)\n",
      "    'diffmap_evals', eigenvalues of transition matrix (adata.uns) (0:00:00)\n",
      "/home/junho/anaconda3/envs/py37/lib/python3.7/site-packages/anndata/_core/anndata.py:1094: FutureWarning: is_categorical is deprecated and will be removed in a future version.  Use is_categorical_dtype instead\n",
      "  if not is_categorical(df_full[k]):\n"
     ]
    },
    {
     "name": "stdout",
     "output_type": "stream",
     "text": [
      "to select: 4329\n",
      "length of sketch: 21397\n",
      "wang20_rectum\n",
      "from: 3797\n"
     ]
    },
    {
     "name": "stderr",
     "output_type": "stream",
     "text": [
      "extracting highly variable genes\n",
      "    finished (0:00:00)\n",
      "/home/junho/anaconda3/envs/py37/lib/python3.7/site-packages/anndata/_core/anndata.py:1094: FutureWarning: is_categorical is deprecated and will be removed in a future version.  Use is_categorical_dtype instead\n",
      "  if not is_categorical(df_full[k]):\n",
      "... as `zero_center=True`, sparse input is densified and may lead to large memory consumption\n"
     ]
    },
    {
     "name": "stdout",
     "output_type": "stream",
     "text": [
      "removing cc_genes...\n"
     ]
    },
    {
     "name": "stderr",
     "output_type": "stream",
     "text": [
      "computing PCA\n",
      "    with n_comps=50\n",
      "    finished (0:00:01)\n",
      "computing neighbors\n",
      "    using 'X_pca' with n_pcs = 50\n",
      "    finished: added to `.uns['neighbors']`\n",
      "    `.obsp['distances']`, distances for each pair of neighbors\n",
      "    `.obsp['connectivities']`, weighted adjacency matrix (0:00:00)\n",
      "computing Diffusion Maps using n_comps=15(=n_dcs)\n",
      "computing transitions\n",
      "    finished (0:00:00)\n",
      "    eigenvalues of transition matrix\n",
      "    [1.         0.99326    0.99028766 0.98506105 0.98044044 0.96949065\n",
      "     0.96636236 0.9582363  0.9496039  0.9484326  0.9443238  0.9395187\n",
      "     0.9326832  0.9295524  0.92326206]\n",
      "    finished: added\n",
      "    'X_diffmap', diffmap coordinates (adata.obsm)\n",
      "    'diffmap_evals', eigenvalues of transition matrix (adata.uns) (0:00:00)\n",
      "/home/junho/anaconda3/envs/py37/lib/python3.7/site-packages/anndata/_core/anndata.py:1094: FutureWarning: is_categorical is deprecated and will be removed in a future version.  Use is_categorical_dtype instead\n",
      "  if not is_categorical(df_full[k]):\n"
     ]
    },
    {
     "name": "stdout",
     "output_type": "stream",
     "text": [
      "to select: 3797\n",
      "length of sketch: 25194\n",
      "HQ.Dinh\n",
      "from: 4715\n"
     ]
    },
    {
     "name": "stderr",
     "output_type": "stream",
     "text": [
      "extracting highly variable genes\n",
      "    finished (0:00:00)\n",
      "/home/junho/anaconda3/envs/py37/lib/python3.7/site-packages/anndata/_core/anndata.py:1094: FutureWarning: is_categorical is deprecated and will be removed in a future version.  Use is_categorical_dtype instead\n",
      "  if not is_categorical(df_full[k]):\n",
      "... as `zero_center=True`, sparse input is densified and may lead to large memory consumption\n"
     ]
    },
    {
     "name": "stdout",
     "output_type": "stream",
     "text": [
      "removing cc_genes...\n"
     ]
    },
    {
     "name": "stderr",
     "output_type": "stream",
     "text": [
      "computing PCA\n",
      "    with n_comps=50\n",
      "    finished (0:00:02)\n",
      "computing neighbors\n",
      "    using 'X_pca' with n_pcs = 50\n",
      "    finished: added to `.uns['neighbors']`\n",
      "    `.obsp['distances']`, distances for each pair of neighbors\n",
      "    `.obsp['connectivities']`, weighted adjacency matrix (0:00:00)\n",
      "computing Diffusion Maps using n_comps=15(=n_dcs)\n",
      "computing transitions\n",
      "    finished (0:00:00)\n",
      "    eigenvalues of transition matrix\n",
      "    [1.         0.9947457  0.9842284  0.98337984 0.9771414  0.97368866\n",
      "     0.9708104  0.9688149  0.96285325 0.9601092  0.95566016 0.95046496\n",
      "     0.9404311  0.93095636 0.9259826 ]\n",
      "    finished: added\n",
      "    'X_diffmap', diffmap coordinates (adata.obsm)\n",
      "    'diffmap_evals', eigenvalues of transition matrix (adata.uns) (0:00:00)\n",
      "/home/junho/anaconda3/envs/py37/lib/python3.7/site-packages/anndata/_core/anndata.py:1094: FutureWarning: is_categorical is deprecated and will be removed in a future version.  Use is_categorical_dtype instead\n",
      "  if not is_categorical(df_full[k]):\n"
     ]
    },
    {
     "name": "stdout",
     "output_type": "stream",
     "text": [
      "to select: 4715\n",
      "length of sketch: 29909\n",
      "Qian\n",
      "from: 25973\n"
     ]
    },
    {
     "name": "stderr",
     "output_type": "stream",
     "text": [
      "extracting highly variable genes\n",
      "    finished (0:00:00)\n",
      "/home/junho/anaconda3/envs/py37/lib/python3.7/site-packages/anndata/_core/anndata.py:1094: FutureWarning: is_categorical is deprecated and will be removed in a future version.  Use is_categorical_dtype instead\n",
      "  if not is_categorical(df_full[k]):\n",
      "... as `zero_center=True`, sparse input is densified and may lead to large memory consumption\n"
     ]
    },
    {
     "name": "stdout",
     "output_type": "stream",
     "text": [
      "removing cc_genes...\n"
     ]
    },
    {
     "name": "stderr",
     "output_type": "stream",
     "text": [
      "computing PCA\n",
      "    with n_comps=50\n",
      "    finished (0:00:05)\n",
      "computing neighbors\n",
      "    using 'X_pca' with n_pcs = 50\n",
      "    finished: added to `.uns['neighbors']`\n",
      "    `.obsp['distances']`, distances for each pair of neighbors\n",
      "    `.obsp['connectivities']`, weighted adjacency matrix (0:00:03)\n",
      "computing Diffusion Maps using n_comps=15(=n_dcs)\n",
      "computing transitions\n",
      "    finished (0:00:00)\n",
      "    eigenvalues of transition matrix\n",
      "    [1.         0.9993526  0.9992417  0.99901825 0.9989368  0.99883115\n",
      "     0.9986037  0.99802655 0.9979002  0.9977719  0.99765956 0.9972524\n",
      "     0.99643755 0.9955857  0.9939536 ]\n",
      "    finished: added\n",
      "    'X_diffmap', diffmap coordinates (adata.obsm)\n",
      "    'diffmap_evals', eigenvalues of transition matrix (adata.uns) (0:00:01)\n"
     ]
    },
    {
     "name": "stdout",
     "output_type": "stream",
     "text": [
      "to select: 10000\n",
      "length of sketch: 44940\n",
      "guo18_donor\n",
      "from: 6199\n"
     ]
    },
    {
     "name": "stderr",
     "output_type": "stream",
     "text": [
      "/home/junho/anaconda3/envs/py37/lib/python3.7/site-packages/anndata/_core/anndata.py:1094: FutureWarning: is_categorical is deprecated and will be removed in a future version.  Use is_categorical_dtype instead\n",
      "  if not is_categorical(df_full[k]):\n",
      "extracting highly variable genes\n",
      "    finished (0:00:00)\n",
      "/home/junho/anaconda3/envs/py37/lib/python3.7/site-packages/anndata/_core/anndata.py:1094: FutureWarning: is_categorical is deprecated and will be removed in a future version.  Use is_categorical_dtype instead\n",
      "  if not is_categorical(df_full[k]):\n",
      "... as `zero_center=True`, sparse input is densified and may lead to large memory consumption\n"
     ]
    },
    {
     "name": "stdout",
     "output_type": "stream",
     "text": [
      "removing cc_genes...\n"
     ]
    },
    {
     "name": "stderr",
     "output_type": "stream",
     "text": [
      "computing PCA\n",
      "    with n_comps=50\n",
      "    finished (0:00:01)\n",
      "computing neighbors\n",
      "    using 'X_pca' with n_pcs = 50\n",
      "    finished: added to `.uns['neighbors']`\n",
      "    `.obsp['distances']`, distances for each pair of neighbors\n",
      "    `.obsp['connectivities']`, weighted adjacency matrix (0:00:01)\n",
      "computing Diffusion Maps using n_comps=15(=n_dcs)\n",
      "computing transitions\n",
      "    finished (0:00:00)\n",
      "    eigenvalues of transition matrix\n",
      "    [1.         0.99921095 0.9987905  0.9984303  0.99754417 0.99737674\n",
      "     0.9966641  0.993941   0.99178797 0.99029225 0.9885136  0.9872583\n",
      "     0.9866686  0.9859223  0.98319083]\n",
      "    finished: added\n",
      "    'X_diffmap', diffmap coordinates (adata.obsm)\n",
      "    'diffmap_evals', eigenvalues of transition matrix (adata.uns) (0:00:00)\n",
      "/home/junho/anaconda3/envs/py37/lib/python3.7/site-packages/anndata/_core/anndata.py:1094: FutureWarning: is_categorical is deprecated and will be removed in a future version.  Use is_categorical_dtype instead\n",
      "  if not is_categorical(df_full[k]):\n"
     ]
    },
    {
     "name": "stdout",
     "output_type": "stream",
     "text": [
      "to select: 6199\n",
      "length of sketch: 51139\n",
      "di.Magliano.MP\n",
      "from: 33582\n"
     ]
    },
    {
     "name": "stderr",
     "output_type": "stream",
     "text": [
      "extracting highly variable genes\n",
      "    finished (0:00:00)\n",
      "/home/junho/anaconda3/envs/py37/lib/python3.7/site-packages/anndata/_core/anndata.py:1094: FutureWarning: is_categorical is deprecated and will be removed in a future version.  Use is_categorical_dtype instead\n",
      "  if not is_categorical(df_full[k]):\n",
      "... as `zero_center=True`, sparse input is densified and may lead to large memory consumption\n"
     ]
    },
    {
     "name": "stdout",
     "output_type": "stream",
     "text": [
      "removing cc_genes...\n"
     ]
    },
    {
     "name": "stderr",
     "output_type": "stream",
     "text": [
      "computing PCA\n",
      "    with n_comps=50\n",
      "    finished (0:00:06)\n",
      "computing neighbors\n",
      "    using 'X_pca' with n_pcs = 50\n",
      "    finished: added to `.uns['neighbors']`\n",
      "    `.obsp['distances']`, distances for each pair of neighbors\n",
      "    `.obsp['connectivities']`, weighted adjacency matrix (0:00:05)\n",
      "computing Diffusion Maps using n_comps=15(=n_dcs)\n",
      "computing transitions\n",
      "    finished (0:00:00)\n",
      "    eigenvalues of transition matrix\n",
      "    [1.         0.9996131  0.9994884  0.9991946  0.99899805 0.9988133\n",
      "     0.9987228  0.9986152  0.99813056 0.9980854  0.99765015 0.9967338\n",
      "     0.99669933 0.99662936 0.995473  ]\n",
      "    finished: added\n",
      "    'X_diffmap', diffmap coordinates (adata.obsm)\n",
      "    'diffmap_evals', eigenvalues of transition matrix (adata.uns) (0:00:02)\n"
     ]
    },
    {
     "name": "stdout",
     "output_type": "stream",
     "text": [
      "to select: 10000\n",
      "length of sketch: 66794\n",
      "henry18_0\n",
      "from: 32921\n"
     ]
    },
    {
     "name": "stderr",
     "output_type": "stream",
     "text": [
      "/home/junho/anaconda3/envs/py37/lib/python3.7/site-packages/anndata/_core/anndata.py:1094: FutureWarning: is_categorical is deprecated and will be removed in a future version.  Use is_categorical_dtype instead\n",
      "  if not is_categorical(df_full[k]):\n",
      "extracting highly variable genes\n",
      "    finished (0:00:00)\n",
      "/home/junho/anaconda3/envs/py37/lib/python3.7/site-packages/anndata/_core/anndata.py:1094: FutureWarning: is_categorical is deprecated and will be removed in a future version.  Use is_categorical_dtype instead\n",
      "  if not is_categorical(df_full[k]):\n",
      "... as `zero_center=True`, sparse input is densified and may lead to large memory consumption\n"
     ]
    },
    {
     "name": "stdout",
     "output_type": "stream",
     "text": [
      "removing cc_genes...\n"
     ]
    },
    {
     "name": "stderr",
     "output_type": "stream",
     "text": [
      "computing PCA\n",
      "    with n_comps=50\n",
      "    finished (0:00:07)\n",
      "computing neighbors\n",
      "    using 'X_pca' with n_pcs = 50\n",
      "    finished: added to `.uns['neighbors']`\n",
      "    `.obsp['distances']`, distances for each pair of neighbors\n",
      "    `.obsp['connectivities']`, weighted adjacency matrix (0:00:08)\n",
      "computing Diffusion Maps using n_comps=15(=n_dcs)\n",
      "computing transitions\n",
      "    finished (0:00:00)\n",
      "    eigenvalues of transition matrix\n",
      "    [1.         0.99772704 0.9967174  0.99628556 0.9948885  0.99335873\n",
      "     0.992198   0.9875878  0.986123   0.98467255 0.9819311  0.98139626\n",
      "     0.9807351  0.9773581  0.97449946]\n",
      "    finished: added\n",
      "    'X_diffmap', diffmap coordinates (adata.obsm)\n",
      "    'diffmap_evals', eigenvalues of transition matrix (adata.uns) (0:00:01)\n"
     ]
    },
    {
     "name": "stdout",
     "output_type": "stream",
     "text": [
      "to select: 10000\n"
     ]
    },
    {
     "name": "stderr",
     "output_type": "stream",
     "text": [
      "/home/junho/anaconda3/envs/py37/lib/python3.7/site-packages/anndata/_core/anndata.py:1094: FutureWarning: is_categorical is deprecated and will be removed in a future version.  Use is_categorical_dtype instead\n",
      "  if not is_categorical(df_full[k]):\n",
      "extracting highly variable genes\n"
     ]
    },
    {
     "name": "stdout",
     "output_type": "stream",
     "text": [
      "length of sketch: 81424\n",
      "macparland18\n",
      "from: 8444\n"
     ]
    },
    {
     "name": "stderr",
     "output_type": "stream",
     "text": [
      "    finished (0:00:00)\n",
      "/home/junho/anaconda3/envs/py37/lib/python3.7/site-packages/anndata/_core/anndata.py:1094: FutureWarning: is_categorical is deprecated and will be removed in a future version.  Use is_categorical_dtype instead\n",
      "  if not is_categorical(df_full[k]):\n",
      "... as `zero_center=True`, sparse input is densified and may lead to large memory consumption\n"
     ]
    },
    {
     "name": "stdout",
     "output_type": "stream",
     "text": [
      "removing cc_genes...\n"
     ]
    },
    {
     "name": "stderr",
     "output_type": "stream",
     "text": [
      "computing PCA\n",
      "    with n_comps=50\n",
      "    finished (0:00:03)\n",
      "computing neighbors\n",
      "    using 'X_pca' with n_pcs = 50\n",
      "    finished: added to `.uns['neighbors']`\n",
      "    `.obsp['distances']`, distances for each pair of neighbors\n",
      "    `.obsp['connectivities']`, weighted adjacency matrix (0:00:01)\n",
      "computing Diffusion Maps using n_comps=15(=n_dcs)\n",
      "computing transitions\n",
      "    finished (0:00:00)\n",
      "    eigenvalues of transition matrix\n",
      "    [1.         0.999159   0.9979905  0.9967835  0.9965653  0.9958791\n",
      "     0.994498   0.9930955  0.9922791  0.9912128  0.9886055  0.9877591\n",
      "     0.98677456 0.98263496 0.9821873 ]\n",
      "    finished: added\n",
      "    'X_diffmap', diffmap coordinates (adata.obsm)\n",
      "    'diffmap_evals', eigenvalues of transition matrix (adata.uns) (0:00:00)\n",
      "/home/junho/anaconda3/envs/py37/lib/python3.7/site-packages/anndata/_core/anndata.py:1094: FutureWarning: is_categorical is deprecated and will be removed in a future version.  Use is_categorical_dtype instead\n",
      "  if not is_categorical(df_full[k]):\n"
     ]
    },
    {
     "name": "stdout",
     "output_type": "stream",
     "text": [
      "to select: 8444\n",
      "length of sketch: 89868\n",
      "menon19\n",
      "from: 20091\n"
     ]
    },
    {
     "name": "stderr",
     "output_type": "stream",
     "text": [
      "extracting highly variable genes\n",
      "    finished (0:00:00)\n",
      "/home/junho/anaconda3/envs/py37/lib/python3.7/site-packages/anndata/_core/anndata.py:1094: FutureWarning: is_categorical is deprecated and will be removed in a future version.  Use is_categorical_dtype instead\n",
      "  if not is_categorical(df_full[k]):\n",
      "... as `zero_center=True`, sparse input is densified and may lead to large memory consumption\n"
     ]
    },
    {
     "name": "stdout",
     "output_type": "stream",
     "text": [
      "removing cc_genes...\n"
     ]
    },
    {
     "name": "stderr",
     "output_type": "stream",
     "text": [
      "computing PCA\n",
      "    with n_comps=50\n",
      "    finished (0:00:09)\n",
      "computing neighbors\n",
      "    using 'X_pca' with n_pcs = 50\n",
      "    finished: added to `.uns['neighbors']`\n",
      "    `.obsp['distances']`, distances for each pair of neighbors\n",
      "    `.obsp['connectivities']`, weighted adjacency matrix (0:00:05)\n",
      "computing Diffusion Maps using n_comps=15(=n_dcs)\n",
      "computing transitions\n",
      "    finished (0:00:00)\n",
      "    eigenvalues of transition matrix\n",
      "    [1.         1.         1.         0.9992491  0.99894416 0.99860257\n",
      "     0.997082   0.9963886  0.99582386 0.99540436 0.9950992  0.99327946\n",
      "     0.9931753  0.99164075 0.9898561 ]\n",
      "    finished: added\n",
      "    'X_diffmap', diffmap coordinates (adata.obsm)\n",
      "    'diffmap_evals', eigenvalues of transition matrix (adata.uns) (0:00:01)\n"
     ]
    },
    {
     "name": "stdout",
     "output_type": "stream",
     "text": [
      "to select: 10000\n",
      "length of sketch: 103576\n",
      "Ankur_Sharma\n",
      "from: 34719\n"
     ]
    },
    {
     "name": "stderr",
     "output_type": "stream",
     "text": [
      "/home/junho/anaconda3/envs/py37/lib/python3.7/site-packages/anndata/_core/anndata.py:1094: FutureWarning: is_categorical is deprecated and will be removed in a future version.  Use is_categorical_dtype instead\n",
      "  if not is_categorical(df_full[k]):\n",
      "extracting highly variable genes\n",
      "    finished (0:00:00)\n",
      "/home/junho/anaconda3/envs/py37/lib/python3.7/site-packages/anndata/_core/anndata.py:1094: FutureWarning: is_categorical is deprecated and will be removed in a future version.  Use is_categorical_dtype instead\n",
      "  if not is_categorical(df_full[k]):\n",
      "... as `zero_center=True`, sparse input is densified and may lead to large memory consumption\n"
     ]
    },
    {
     "name": "stdout",
     "output_type": "stream",
     "text": [
      "removing cc_genes...\n"
     ]
    },
    {
     "name": "stderr",
     "output_type": "stream",
     "text": [
      "computing PCA\n",
      "    with n_comps=50\n",
      "    finished (0:00:07)\n",
      "computing neighbors\n",
      "    using 'X_pca' with n_pcs = 50\n",
      "    finished: added to `.uns['neighbors']`\n",
      "    `.obsp['distances']`, distances for each pair of neighbors\n",
      "    `.obsp['connectivities']`, weighted adjacency matrix (0:00:06)\n",
      "computing Diffusion Maps using n_comps=15(=n_dcs)\n",
      "computing transitions\n",
      "    finished (0:00:00)\n",
      "    eigenvalues of transition matrix\n",
      "    [1.         0.9995539  0.9992567  0.9988827  0.9985176  0.9982834\n",
      "     0.99784607 0.99744654 0.9955289  0.99331224 0.9925116  0.99033505\n",
      "     0.9893846  0.98892874 0.9876896 ]\n",
      "    finished: added\n",
      "    'X_diffmap', diffmap coordinates (adata.obsm)\n",
      "    'diffmap_evals', eigenvalues of transition matrix (adata.uns) (0:00:01)\n"
     ]
    },
    {
     "name": "stdout",
     "output_type": "stream",
     "text": [
      "to select: 10000\n",
      "length of sketch: 119701\n",
      "OH.Lee\n",
      "from: 179557\n"
     ]
    },
    {
     "name": "stderr",
     "output_type": "stream",
     "text": [
      "/home/junho/anaconda3/envs/py37/lib/python3.7/site-packages/anndata/_core/anndata.py:1094: FutureWarning: is_categorical is deprecated and will be removed in a future version.  Use is_categorical_dtype instead\n",
      "  if not is_categorical(df_full[k]):\n",
      "extracting highly variable genes\n",
      "    finished (0:00:01)\n",
      "/home/junho/anaconda3/envs/py37/lib/python3.7/site-packages/anndata/_core/anndata.py:1094: FutureWarning: is_categorical is deprecated and will be removed in a future version.  Use is_categorical_dtype instead\n",
      "  if not is_categorical(df_full[k]):\n",
      "... as `zero_center=True`, sparse input is densified and may lead to large memory consumption\n"
     ]
    },
    {
     "name": "stdout",
     "output_type": "stream",
     "text": [
      "removing cc_genes...\n"
     ]
    },
    {
     "name": "stderr",
     "output_type": "stream",
     "text": [
      "computing PCA\n",
      "    with n_comps=50\n",
      "    finished (0:00:36)\n",
      "computing neighbors\n",
      "    using 'X_pca' with n_pcs = 50\n",
      "    finished: added to `.uns['neighbors']`\n",
      "    `.obsp['distances']`, distances for each pair of neighbors\n",
      "    `.obsp['connectivities']`, weighted adjacency matrix (0:00:57)\n",
      "computing Diffusion Maps using n_comps=15(=n_dcs)\n",
      "computing transitions\n",
      "    finished (0:00:00)\n",
      "    eigenvalues of transition matrix\n",
      "    [1.         0.99986607 0.99975365 0.9994705  0.99926233 0.99923515\n",
      "     0.9991894  0.9991442  0.99908173 0.99885935 0.998858   0.9986144\n",
      "     0.9984369  0.99840415 0.9982933 ]\n",
      "    finished: added\n",
      "    'X_diffmap', diffmap coordinates (adata.obsm)\n",
      "    'diffmap_evals', eigenvalues of transition matrix (adata.uns) (0:00:17)\n"
     ]
    },
    {
     "name": "stdout",
     "output_type": "stream",
     "text": [
      "to select: 17955\n",
      "length of sketch: 150677\n",
      "Sunny.Z.Wu\n",
      "from: 75732\n"
     ]
    },
    {
     "name": "stderr",
     "output_type": "stream",
     "text": [
      "/home/junho/anaconda3/envs/py37/lib/python3.7/site-packages/anndata/_core/anndata.py:1094: FutureWarning: is_categorical is deprecated and will be removed in a future version.  Use is_categorical_dtype instead\n",
      "  if not is_categorical(df_full[k]):\n",
      "extracting highly variable genes\n",
      "    finished (0:00:00)\n",
      "/home/junho/anaconda3/envs/py37/lib/python3.7/site-packages/anndata/_core/anndata.py:1094: FutureWarning: is_categorical is deprecated and will be removed in a future version.  Use is_categorical_dtype instead\n",
      "  if not is_categorical(df_full[k]):\n",
      "... as `zero_center=True`, sparse input is densified and may lead to large memory consumption\n"
     ]
    },
    {
     "name": "stdout",
     "output_type": "stream",
     "text": [
      "removing cc_genes...\n"
     ]
    },
    {
     "name": "stderr",
     "output_type": "stream",
     "text": [
      "computing PCA\n",
      "    with n_comps=50\n",
      "    finished (0:00:12)\n",
      "computing neighbors\n",
      "    using 'X_pca' with n_pcs = 50\n",
      "    finished: added to `.uns['neighbors']`\n",
      "    `.obsp['distances']`, distances for each pair of neighbors\n",
      "    `.obsp['connectivities']`, weighted adjacency matrix (0:00:14)\n",
      "computing Diffusion Maps using n_comps=15(=n_dcs)\n",
      "computing transitions\n",
      "    finished (0:00:00)\n",
      "    eigenvalues of transition matrix\n",
      "    [1.         0.9999302  0.9998482  0.9997942  0.9997688  0.9997613\n",
      "     0.99965316 0.99958557 0.9995427  0.9995047  0.9993273  0.9991246\n",
      "     0.99903435 0.9989835  0.998804  ]\n",
      "    finished: added\n",
      "    'X_diffmap', diffmap coordinates (adata.obsm)\n",
      "    'diffmap_evals', eigenvalues of transition matrix (adata.uns) (0:00:09)\n"
     ]
    },
    {
     "name": "stdout",
     "output_type": "stream",
     "text": [
      "to select: 10000\n",
      "length of sketch: 168583\n",
      "james20\n",
      "from: 41650\n"
     ]
    },
    {
     "name": "stderr",
     "output_type": "stream",
     "text": [
      "/home/junho/anaconda3/envs/py37/lib/python3.7/site-packages/anndata/_core/anndata.py:1094: FutureWarning: is_categorical is deprecated and will be removed in a future version.  Use is_categorical_dtype instead\n",
      "  if not is_categorical(df_full[k]):\n",
      "extracting highly variable genes\n",
      "    finished (0:00:00)\n",
      "/home/junho/anaconda3/envs/py37/lib/python3.7/site-packages/anndata/_core/anndata.py:1094: FutureWarning: is_categorical is deprecated and will be removed in a future version.  Use is_categorical_dtype instead\n",
      "  if not is_categorical(df_full[k]):\n",
      "... as `zero_center=True`, sparse input is densified and may lead to large memory consumption\n"
     ]
    },
    {
     "name": "stdout",
     "output_type": "stream",
     "text": [
      "removing cc_genes...\n"
     ]
    },
    {
     "name": "stderr",
     "output_type": "stream",
     "text": [
      "computing PCA\n",
      "    with n_comps=50\n",
      "    finished (0:00:07)\n",
      "computing neighbors\n",
      "    using 'X_pca' with n_pcs = 50\n",
      "    finished: added to `.uns['neighbors']`\n",
      "    `.obsp['distances']`, distances for each pair of neighbors\n",
      "    `.obsp['connectivities']`, weighted adjacency matrix (0:00:09)\n",
      "computing Diffusion Maps using n_comps=15(=n_dcs)\n",
      "computing transitions\n",
      "    finished (0:00:00)\n",
      "    eigenvalues of transition matrix\n",
      "    [1.         0.99970245 0.99937016 0.99914795 0.9986327  0.9984726\n",
      "     0.99807644 0.99742097 0.9968241  0.99565977 0.9952222  0.99448705\n",
      "     0.99330574 0.9929635  0.9917613 ]\n",
      "    finished: added\n",
      "    'X_diffmap', diffmap coordinates (adata.obsm)\n",
      "    'diffmap_evals', eigenvalues of transition matrix (adata.uns) (0:00:02)\n"
     ]
    },
    {
     "name": "stdout",
     "output_type": "stream",
     "text": [
      "to select: 10000\n"
     ]
    },
    {
     "name": "stderr",
     "output_type": "stream",
     "text": [
      "/home/junho/anaconda3/envs/py37/lib/python3.7/site-packages/anndata/_core/anndata.py:1094: FutureWarning: is_categorical is deprecated and will be removed in a future version.  Use is_categorical_dtype instead\n",
      "  if not is_categorical(df_full[k]):\n",
      "extracting highly variable genes\n"
     ]
    },
    {
     "name": "stdout",
     "output_type": "stream",
     "text": [
      "length of sketch: 184358\n",
      "voigt19\n",
      "from: 4335\n"
     ]
    },
    {
     "name": "stderr",
     "output_type": "stream",
     "text": [
      "    finished (0:00:00)\n",
      "/home/junho/anaconda3/envs/py37/lib/python3.7/site-packages/anndata/_core/anndata.py:1094: FutureWarning: is_categorical is deprecated and will be removed in a future version.  Use is_categorical_dtype instead\n",
      "  if not is_categorical(df_full[k]):\n",
      "... as `zero_center=True`, sparse input is densified and may lead to large memory consumption\n"
     ]
    },
    {
     "name": "stdout",
     "output_type": "stream",
     "text": [
      "removing cc_genes...\n"
     ]
    },
    {
     "name": "stderr",
     "output_type": "stream",
     "text": [
      "computing PCA\n",
      "    with n_comps=50\n",
      "    finished (0:00:01)\n",
      "computing neighbors\n",
      "    using 'X_pca' with n_pcs = 50\n",
      "    finished: added to `.uns['neighbors']`\n",
      "    `.obsp['distances']`, distances for each pair of neighbors\n",
      "    `.obsp['connectivities']`, weighted adjacency matrix (0:00:00)\n",
      "computing Diffusion Maps using n_comps=15(=n_dcs)\n",
      "computing transitions\n",
      "    finished (0:00:00)\n",
      "    eigenvalues of transition matrix\n",
      "    [1.         0.9988409  0.9976179  0.9973579  0.9968447  0.9962847\n",
      "     0.9957034  0.99534434 0.9921368  0.98916703 0.9860957  0.98373264\n",
      "     0.97760075 0.9743492  0.9741531 ]\n",
      "    finished: added\n",
      "    'X_diffmap', diffmap coordinates (adata.obsm)\n",
      "    'diffmap_evals', eigenvalues of transition matrix (adata.uns) (0:00:00)\n",
      "/home/junho/anaconda3/envs/py37/lib/python3.7/site-packages/anndata/_core/anndata.py:1094: FutureWarning: is_categorical is deprecated and will be removed in a future version.  Use is_categorical_dtype instead\n",
      "  if not is_categorical(df_full[k]):\n"
     ]
    },
    {
     "name": "stdout",
     "output_type": "stream",
     "text": [
      "to select: 4335\n",
      "length of sketch: 188693\n",
      "Lichun.Ma\n",
      "from: 27576\n"
     ]
    },
    {
     "name": "stderr",
     "output_type": "stream",
     "text": [
      "extracting highly variable genes\n",
      "    finished (0:00:00)\n",
      "/home/junho/anaconda3/envs/py37/lib/python3.7/site-packages/anndata/_core/anndata.py:1094: FutureWarning: is_categorical is deprecated and will be removed in a future version.  Use is_categorical_dtype instead\n",
      "  if not is_categorical(df_full[k]):\n",
      "... as `zero_center=True`, sparse input is densified and may lead to large memory consumption\n"
     ]
    },
    {
     "name": "stdout",
     "output_type": "stream",
     "text": [
      "removing cc_genes...\n"
     ]
    },
    {
     "name": "stderr",
     "output_type": "stream",
     "text": [
      "computing PCA\n",
      "    with n_comps=50\n",
      "    finished (0:00:05)\n",
      "computing neighbors\n",
      "    using 'X_pca' with n_pcs = 50\n",
      "    finished: added to `.uns['neighbors']`\n",
      "    `.obsp['distances']`, distances for each pair of neighbors\n",
      "    `.obsp['connectivities']`, weighted adjacency matrix (0:00:04)\n",
      "computing Diffusion Maps using n_comps=15(=n_dcs)\n",
      "computing transitions\n",
      "    finished (0:00:00)\n",
      "    eigenvalues of transition matrix\n",
      "    [1.         0.9995009  0.99927855 0.9991742  0.9989246  0.9987756\n",
      "     0.9985603  0.9983085  0.998128   0.99808973 0.9968473  0.9958599\n",
      "     0.99538183 0.9952244  0.9951125 ]\n",
      "    finished: added\n",
      "    'X_diffmap', diffmap coordinates (adata.obsm)\n",
      "    'diffmap_evals', eigenvalues of transition matrix (adata.uns) (0:00:01)\n"
     ]
    },
    {
     "name": "stdout",
     "output_type": "stream",
     "text": [
      "to select: 10000\n",
      "length of sketch: 203636\n",
      "stewart19_adult\n",
      "from: 40268\n"
     ]
    },
    {
     "name": "stderr",
     "output_type": "stream",
     "text": [
      "/home/junho/anaconda3/envs/py37/lib/python3.7/site-packages/anndata/_core/anndata.py:1094: FutureWarning: is_categorical is deprecated and will be removed in a future version.  Use is_categorical_dtype instead\n",
      "  if not is_categorical(df_full[k]):\n",
      "extracting highly variable genes\n",
      "    finished (0:00:00)\n",
      "/home/junho/anaconda3/envs/py37/lib/python3.7/site-packages/anndata/_core/anndata.py:1094: FutureWarning: is_categorical is deprecated and will be removed in a future version.  Use is_categorical_dtype instead\n",
      "  if not is_categorical(df_full[k]):\n",
      "... as `zero_center=True`, sparse input is densified and may lead to large memory consumption\n"
     ]
    },
    {
     "name": "stdout",
     "output_type": "stream",
     "text": [
      "removing cc_genes...\n"
     ]
    },
    {
     "name": "stderr",
     "output_type": "stream",
     "text": [
      "computing PCA\n",
      "    with n_comps=50\n",
      "    finished (0:00:10)\n",
      "computing neighbors\n",
      "    using 'X_pca' with n_pcs = 50\n",
      "    finished: added to `.uns['neighbors']`\n",
      "    `.obsp['distances']`, distances for each pair of neighbors\n",
      "    `.obsp['connectivities']`, weighted adjacency matrix (0:00:09)\n",
      "computing Diffusion Maps using n_comps=15(=n_dcs)\n",
      "computing transitions\n",
      "    finished (0:00:00)\n",
      "    eigenvalues of transition matrix\n",
      "    [1.         1.         0.9995265  0.9994986  0.9983034  0.99824953\n",
      "     0.99811846 0.9968318  0.9961362  0.9959936  0.99364686 0.993498\n",
      "     0.99261576 0.99145883 0.9912204 ]\n",
      "    finished: added\n",
      "    'X_diffmap', diffmap coordinates (adata.obsm)\n",
      "    'diffmap_evals', eigenvalues of transition matrix (adata.uns) (0:00:02)\n"
     ]
    },
    {
     "name": "stdout",
     "output_type": "stream",
     "text": [
      "to select: 10000\n"
     ]
    },
    {
     "name": "stderr",
     "output_type": "stream",
     "text": [
      "/home/junho/anaconda3/envs/py37/lib/python3.7/site-packages/anndata/_core/anndata.py:1094: FutureWarning: is_categorical is deprecated and will be removed in a future version.  Use is_categorical_dtype instead\n",
      "  if not is_categorical(df_full[k]):\n",
      "extracting highly variable genes\n"
     ]
    },
    {
     "name": "stdout",
     "output_type": "stream",
     "text": [
      "length of sketch: 217852\n",
      "wang20_ileum\n",
      "from: 5980\n"
     ]
    },
    {
     "name": "stderr",
     "output_type": "stream",
     "text": [
      "    finished (0:00:00)\n",
      "/home/junho/anaconda3/envs/py37/lib/python3.7/site-packages/anndata/_core/anndata.py:1094: FutureWarning: is_categorical is deprecated and will be removed in a future version.  Use is_categorical_dtype instead\n",
      "  if not is_categorical(df_full[k]):\n",
      "... as `zero_center=True`, sparse input is densified and may lead to large memory consumption\n"
     ]
    },
    {
     "name": "stdout",
     "output_type": "stream",
     "text": [
      "removing cc_genes...\n"
     ]
    },
    {
     "name": "stderr",
     "output_type": "stream",
     "text": [
      "computing PCA\n",
      "    with n_comps=50\n",
      "    finished (0:00:02)\n",
      "computing neighbors\n",
      "    using 'X_pca' with n_pcs = 50\n",
      "    finished: added to `.uns['neighbors']`\n",
      "    `.obsp['distances']`, distances for each pair of neighbors\n",
      "    `.obsp['connectivities']`, weighted adjacency matrix (0:00:00)\n",
      "computing Diffusion Maps using n_comps=15(=n_dcs)\n",
      "computing transitions\n",
      "    finished (0:00:00)\n",
      "    eigenvalues of transition matrix\n",
      "    [1.         0.9937559  0.98578274 0.9800669  0.97852117 0.966784\n",
      "     0.95286494 0.9503715  0.9465677  0.9410249  0.9310062  0.92678773\n",
      "     0.9167377  0.90967673 0.90238327]\n",
      "    finished: added\n",
      "    'X_diffmap', diffmap coordinates (adata.obsm)\n",
      "    'diffmap_evals', eigenvalues of transition matrix (adata.uns) (0:00:00)\n"
     ]
    },
    {
     "name": "stdout",
     "output_type": "stream",
     "text": [
      "to select: 5980\n",
      "length of sketch: 223832\n",
      "baron16\n"
     ]
    },
    {
     "name": "stderr",
     "output_type": "stream",
     "text": [
      "/home/junho/anaconda3/envs/py37/lib/python3.7/site-packages/anndata/_core/anndata.py:1094: FutureWarning: is_categorical is deprecated and will be removed in a future version.  Use is_categorical_dtype instead\n",
      "  if not is_categorical(df_full[k]):\n",
      "extracting highly variable genes\n"
     ]
    },
    {
     "name": "stdout",
     "output_type": "stream",
     "text": [
      "from: 7714\n"
     ]
    },
    {
     "name": "stderr",
     "output_type": "stream",
     "text": [
      "    finished (0:00:00)\n",
      "/home/junho/anaconda3/envs/py37/lib/python3.7/site-packages/anndata/_core/anndata.py:1094: FutureWarning: is_categorical is deprecated and will be removed in a future version.  Use is_categorical_dtype instead\n",
      "  if not is_categorical(df_full[k]):\n",
      "... as `zero_center=True`, sparse input is densified and may lead to large memory consumption\n"
     ]
    },
    {
     "name": "stdout",
     "output_type": "stream",
     "text": [
      "removing cc_genes...\n"
     ]
    },
    {
     "name": "stderr",
     "output_type": "stream",
     "text": [
      "computing PCA\n",
      "    with n_comps=50\n",
      "    finished (0:00:01)\n",
      "computing neighbors\n",
      "    using 'X_pca' with n_pcs = 50\n",
      "    finished: added to `.uns['neighbors']`\n",
      "    `.obsp['distances']`, distances for each pair of neighbors\n",
      "    `.obsp['connectivities']`, weighted adjacency matrix (0:00:01)\n",
      "computing Diffusion Maps using n_comps=15(=n_dcs)\n",
      "computing transitions\n",
      "    finished (0:00:00)\n",
      "    eigenvalues of transition matrix\n",
      "    [1.         0.99735796 0.996143   0.9952041  0.9944494  0.99334735\n",
      "     0.99084616 0.98808193 0.9871677  0.98671365 0.9845369  0.9827\n",
      "     0.9812642  0.9801952  0.9776492 ]\n",
      "    finished: added\n",
      "    'X_diffmap', diffmap coordinates (adata.obsm)\n",
      "    'diffmap_evals', eigenvalues of transition matrix (adata.uns) (0:00:00)\n"
     ]
    },
    {
     "name": "stdout",
     "output_type": "stream",
     "text": [
      "to select: 7714\n",
      "length of sketch: 231546\n",
      "tucker20_heart\n",
      "from: 50000\n"
     ]
    },
    {
     "name": "stderr",
     "output_type": "stream",
     "text": [
      "/home/junho/anaconda3/envs/py37/lib/python3.7/site-packages/anndata/_core/anndata.py:1094: FutureWarning: is_categorical is deprecated and will be removed in a future version.  Use is_categorical_dtype instead\n",
      "  if not is_categorical(df_full[k]):\n",
      "extracting highly variable genes\n",
      "    finished (0:00:00)\n",
      "/home/junho/anaconda3/envs/py37/lib/python3.7/site-packages/anndata/_core/anndata.py:1094: FutureWarning: is_categorical is deprecated and will be removed in a future version.  Use is_categorical_dtype instead\n",
      "  if not is_categorical(df_full[k]):\n",
      "... as `zero_center=True`, sparse input is densified and may lead to large memory consumption\n"
     ]
    },
    {
     "name": "stdout",
     "output_type": "stream",
     "text": [
      "removing cc_genes...\n"
     ]
    },
    {
     "name": "stderr",
     "output_type": "stream",
     "text": [
      "computing PCA\n",
      "    with n_comps=50\n",
      "    finished (0:00:14)\n",
      "computing neighbors\n",
      "    using 'X_pca' with n_pcs = 50\n",
      "    finished: added to `.uns['neighbors']`\n",
      "    `.obsp['distances']`, distances for each pair of neighbors\n",
      "    `.obsp['connectivities']`, weighted adjacency matrix (0:00:10)\n",
      "computing Diffusion Maps using n_comps=15(=n_dcs)\n",
      "computing transitions\n",
      "    finished (0:00:00)\n",
      "    eigenvalues of transition matrix\n",
      "    [1.         0.99726933 0.995439   0.9952243  0.9950302  0.99302036\n",
      "     0.99253154 0.99149084 0.9911931  0.990453   0.9897275  0.9893951\n",
      "     0.9889527  0.9884915  0.9883916 ]\n",
      "    finished: added\n",
      "    'X_diffmap', diffmap coordinates (adata.obsm)\n",
      "    'diffmap_evals', eigenvalues of transition matrix (adata.uns) (0:00:03)\n"
     ]
    },
    {
     "name": "stdout",
     "output_type": "stream",
     "text": [
      "to select: 10000\n",
      "length of sketch: 247829\n",
      "madissoon19_lung\n",
      "from: 57020\n"
     ]
    },
    {
     "name": "stderr",
     "output_type": "stream",
     "text": [
      "/home/junho/anaconda3/envs/py37/lib/python3.7/site-packages/anndata/_core/anndata.py:1094: FutureWarning: is_categorical is deprecated and will be removed in a future version.  Use is_categorical_dtype instead\n",
      "  if not is_categorical(df_full[k]):\n",
      "extracting highly variable genes\n",
      "    finished (0:00:00)\n",
      "/home/junho/anaconda3/envs/py37/lib/python3.7/site-packages/anndata/_core/anndata.py:1094: FutureWarning: is_categorical is deprecated and will be removed in a future version.  Use is_categorical_dtype instead\n",
      "  if not is_categorical(df_full[k]):\n",
      "... as `zero_center=True`, sparse input is densified and may lead to large memory consumption\n"
     ]
    },
    {
     "name": "stdout",
     "output_type": "stream",
     "text": [
      "removing cc_genes...\n"
     ]
    },
    {
     "name": "stderr",
     "output_type": "stream",
     "text": [
      "computing PCA\n",
      "    with n_comps=50\n",
      "    finished (0:00:10)\n",
      "computing neighbors\n",
      "    using 'X_pca' with n_pcs = 50\n",
      "    finished: added to `.uns['neighbors']`\n",
      "    `.obsp['distances']`, distances for each pair of neighbors\n",
      "    `.obsp['connectivities']`, weighted adjacency matrix (0:00:12)\n",
      "computing Diffusion Maps using n_comps=15(=n_dcs)\n",
      "computing transitions\n",
      "    finished (0:00:00)\n",
      "    eigenvalues of transition matrix\n",
      "    [1.         0.99960035 0.999293   0.9989169  0.99858373 0.9985375\n",
      "     0.99830043 0.9980626  0.99769104 0.9968583  0.9950735  0.9948812\n",
      "     0.99470127 0.9944128  0.9934995 ]\n",
      "    finished: added\n",
      "    'X_diffmap', diffmap coordinates (adata.obsm)\n",
      "    'diffmap_evals', eigenvalues of transition matrix (adata.uns) (0:00:02)\n"
     ]
    },
    {
     "name": "stdout",
     "output_type": "stream",
     "text": [
      "to select: 10000\n",
      "length of sketch: 264507\n",
      "pal20_breast\n",
      "from: 107482\n"
     ]
    },
    {
     "name": "stderr",
     "output_type": "stream",
     "text": [
      "/home/junho/anaconda3/envs/py37/lib/python3.7/site-packages/anndata/_core/anndata.py:1094: FutureWarning: is_categorical is deprecated and will be removed in a future version.  Use is_categorical_dtype instead\n",
      "  if not is_categorical(df_full[k]):\n",
      "extracting highly variable genes\n",
      "    finished (0:00:01)\n",
      "/home/junho/anaconda3/envs/py37/lib/python3.7/site-packages/anndata/_core/anndata.py:1094: FutureWarning: is_categorical is deprecated and will be removed in a future version.  Use is_categorical_dtype instead\n",
      "  if not is_categorical(df_full[k]):\n",
      "... as `zero_center=True`, sparse input is densified and may lead to large memory consumption\n"
     ]
    },
    {
     "name": "stdout",
     "output_type": "stream",
     "text": [
      "removing cc_genes...\n"
     ]
    },
    {
     "name": "stderr",
     "output_type": "stream",
     "text": [
      "computing PCA\n",
      "    with n_comps=50\n",
      "    finished (0:00:08)\n",
      "computing neighbors\n",
      "    using 'X_pca' with n_pcs = 50\n",
      "    finished: added to `.uns['neighbors']`\n",
      "    `.obsp['distances']`, distances for each pair of neighbors\n",
      "    `.obsp['connectivities']`, weighted adjacency matrix (0:00:35)\n",
      "computing Diffusion Maps using n_comps=15(=n_dcs)\n",
      "computing transitions\n",
      "    finished (0:00:00)\n",
      "    eigenvalues of transition matrix\n",
      "    [1.         0.9988731  0.99805164 0.9975384  0.997454   0.99680686\n",
      "     0.9964375  0.9961772  0.99504155 0.9944194  0.9921147  0.9879634\n",
      "     0.9868606  0.98654634 0.9857315 ]\n",
      "    finished: added\n",
      "    'X_diffmap', diffmap coordinates (adata.obsm)\n",
      "    'diffmap_evals', eigenvalues of transition matrix (adata.uns) (0:00:04)\n"
     ]
    },
    {
     "name": "stdout",
     "output_type": "stream",
     "text": [
      "to select: 10748\n",
      "length of sketch: 282656\n",
      "Junbin.Qian\n",
      "from: 100862\n"
     ]
    },
    {
     "name": "stderr",
     "output_type": "stream",
     "text": [
      "/home/junho/anaconda3/envs/py37/lib/python3.7/site-packages/anndata/_core/anndata.py:1094: FutureWarning: is_categorical is deprecated and will be removed in a future version.  Use is_categorical_dtype instead\n",
      "  if not is_categorical(df_full[k]):\n",
      "extracting highly variable genes\n",
      "    finished (0:00:01)\n",
      "/home/junho/anaconda3/envs/py37/lib/python3.7/site-packages/anndata/_core/anndata.py:1094: FutureWarning: is_categorical is deprecated and will be removed in a future version.  Use is_categorical_dtype instead\n",
      "  if not is_categorical(df_full[k]):\n",
      "... as `zero_center=True`, sparse input is densified and may lead to large memory consumption\n"
     ]
    },
    {
     "name": "stdout",
     "output_type": "stream",
     "text": [
      "removing cc_genes...\n"
     ]
    },
    {
     "name": "stderr",
     "output_type": "stream",
     "text": [
      "computing PCA\n",
      "    with n_comps=50\n",
      "    finished (0:00:22)\n",
      "computing neighbors\n",
      "    using 'X_pca' with n_pcs = 50\n",
      "    finished: added to `.uns['neighbors']`\n",
      "    `.obsp['distances']`, distances for each pair of neighbors\n",
      "    `.obsp['connectivities']`, weighted adjacency matrix (0:00:22)\n",
      "computing Diffusion Maps using n_comps=15(=n_dcs)\n",
      "computing transitions\n",
      "    finished (0:00:00)\n",
      "    eigenvalues of transition matrix\n",
      "    [1.         0.99989593 0.9994562  0.9994277  0.99920887 0.9990535\n",
      "     0.99892855 0.99883246 0.99873585 0.99854845 0.9984138  0.9982223\n",
      "     0.99806815 0.9980528  0.9980267 ]\n",
      "    finished: added\n",
      "    'X_diffmap', diffmap coordinates (adata.obsm)\n",
      "    'diffmap_evals', eigenvalues of transition matrix (adata.uns) (0:00:12)\n"
     ]
    },
    {
     "name": "stdout",
     "output_type": "stream",
     "text": [
      "to select: 10086\n",
      "length of sketch: 300505\n",
      "vieira19_Alveoli_and_parenchyma_anonymised\n",
      "from: 12971\n"
     ]
    },
    {
     "name": "stderr",
     "output_type": "stream",
     "text": [
      "/home/junho/anaconda3/envs/py37/lib/python3.7/site-packages/anndata/_core/anndata.py:1094: FutureWarning: is_categorical is deprecated and will be removed in a future version.  Use is_categorical_dtype instead\n",
      "  if not is_categorical(df_full[k]):\n",
      "extracting highly variable genes\n",
      "    finished (0:00:00)\n",
      "/home/junho/anaconda3/envs/py37/lib/python3.7/site-packages/anndata/_core/anndata.py:1094: FutureWarning: is_categorical is deprecated and will be removed in a future version.  Use is_categorical_dtype instead\n",
      "  if not is_categorical(df_full[k]):\n",
      "... as `zero_center=True`, sparse input is densified and may lead to large memory consumption\n"
     ]
    },
    {
     "name": "stdout",
     "output_type": "stream",
     "text": [
      "removing cc_genes...\n"
     ]
    },
    {
     "name": "stderr",
     "output_type": "stream",
     "text": [
      "computing PCA\n",
      "    with n_comps=50\n",
      "    finished (0:00:02)\n",
      "computing neighbors\n",
      "    using 'X_pca' with n_pcs = 50\n",
      "    finished: added to `.uns['neighbors']`\n",
      "    `.obsp['distances']`, distances for each pair of neighbors\n",
      "    `.obsp['connectivities']`, weighted adjacency matrix (0:00:01)\n",
      "computing Diffusion Maps using n_comps=15(=n_dcs)\n",
      "computing transitions\n",
      "    finished (0:00:00)\n",
      "    eigenvalues of transition matrix\n",
      "    [1.         0.99987674 0.99958134 0.9989163  0.9988016  0.9980949\n",
      "     0.9976477  0.99720824 0.9961371  0.9957371  0.99536115 0.9951033\n",
      "     0.9943981  0.9939535  0.99378866]\n",
      "    finished: added\n",
      "    'X_diffmap', diffmap coordinates (adata.obsm)\n",
      "    'diffmap_evals', eigenvalues of transition matrix (adata.uns) (0:00:01)\n"
     ]
    },
    {
     "name": "stdout",
     "output_type": "stream",
     "text": [
      "to select: 10000\n",
      "length of sketch: 312485\n"
     ]
    }
   ],
   "source": [
    "sketch_index = scjp.get_sketch(adata,'Author',folds=10,how='pd',min_num_per_key=10000)"
   ]
  },
  {
   "cell_type": "code",
   "execution_count": 60,
   "metadata": {},
   "outputs": [
    {
     "data": {
      "text/plain": [
       "312485"
      ]
     },
     "execution_count": 60,
     "metadata": {},
     "output_type": "execute_result"
    }
   ],
   "source": [
    "len(sketch_index)"
   ]
  },
  {
   "cell_type": "code",
   "execution_count": 56,
   "metadata": {},
   "outputs": [],
   "source": [
    "to_keep=tum_index+sketch_index"
   ]
  },
  {
   "cell_type": "code",
   "execution_count": 57,
   "metadata": {},
   "outputs": [
    {
     "data": {
      "text/plain": [
       "404820"
      ]
     },
     "execution_count": 57,
     "metadata": {},
     "output_type": "execute_result"
    }
   ],
   "source": [
    "len(to_keep)"
   ]
  },
  {
   "cell_type": "code",
   "execution_count": 61,
   "metadata": {},
   "outputs": [],
   "source": [
    "to_keep=list(np.unique(to_keep))"
   ]
  },
  {
   "cell_type": "code",
   "execution_count": 63,
   "metadata": {},
   "outputs": [
    {
     "name": "stderr",
     "output_type": "stream",
     "text": [
      "/home/junho/anaconda3/envs/py37/lib/python3.7/site-packages/anndata/_core/anndata.py:1094: FutureWarning: is_categorical is deprecated and will be removed in a future version.  Use is_categorical_dtype instead\n",
      "  if not is_categorical(df_full[k]):\n"
     ]
    }
   ],
   "source": [
    "adsketch = adata[adata.obs.index.isin(to_keep)]"
   ]
  },
  {
   "cell_type": "code",
   "execution_count": 64,
   "metadata": {},
   "outputs": [
    {
     "data": {
      "text/plain": [
       "View of AnnData object with n_obs × n_vars = 374005 × 36601\n",
       "    obs: 'Author', 'Organ', 'Organ_Specific', 'CellType_original', 'Batch', 'CellType', 'Method', 'name'"
      ]
     },
     "execution_count": 64,
     "metadata": {},
     "output_type": "execute_result"
    }
   ],
   "source": [
    "adsketch"
   ]
  },
  {
   "cell_type": "code",
   "execution_count": 65,
   "metadata": {},
   "outputs": [
    {
     "data": {
      "text/plain": [
       "Counter({'Epithelial_cell': 58531,\n",
       "         'HSC': 5618,\n",
       "         'Monocyte': 20674,\n",
       "         'Erythrocyte': 2089,\n",
       "         'Adipocyte': 23938,\n",
       "         'Macrophage': 19075,\n",
       "         'Dendritic_cell': 1436,\n",
       "         'B_cell': 17500,\n",
       "         'CD8+_T-cell': 18873,\n",
       "         'NK_cell': 9001,\n",
       "         'Endothelial_cell': 17218,\n",
       "         'Fibroblast': 30644,\n",
       "         'Skeletal_muscle': 8944,\n",
       "         'CD4+_T-cell': 10060,\n",
       "         'T_cell': 38,\n",
       "         'Keratinocyte': 1910,\n",
       "         'Astrocyte': 4591,\n",
       "         'Myocyte': 969,\n",
       "         'Chondrocyte': 408,\n",
       "         'Mesangial_cell': 3178,\n",
       "         'Smooth_muscle': 138,\n",
       "         'Smooth_muscle_cell': 6,\n",
       "         'Pericyte': 652,\n",
       "         'Neuron': 13763,\n",
       "         'iPS_cell': 86,\n",
       "         'Hepatocyte': 8691,\n",
       "         'Neuroepithelial_cell': 341,\n",
       "         'Tissue_stem_cell': 24,\n",
       "         'Eosinophil': 17,\n",
       "         'Gametocyte': 1140,\n",
       "         'Embryonic_stem_cell': 25,\n",
       "         'Melanocyte': 1042,\n",
       "         'Erythroblast': 5,\n",
       "         'Platelet': 7,\n",
       "         'Neutrophil': 826,\n",
       "         'Pro-B_cell_CD34+': 2,\n",
       "         'CMP': 1,\n",
       "         'Myelocyte': 4,\n",
       "         'HSC_-G-CSF': 2,\n",
       "         'GMP': 1,\n",
       "         'Tumor_cells': 92335,\n",
       "         'Muscle_cell': 202})"
      ]
     },
     "execution_count": 65,
     "metadata": {},
     "output_type": "execute_result"
    }
   ],
   "source": [
    "Counter(adsketch.obs['CellType'])"
   ]
  },
  {
   "cell_type": "code",
   "execution_count": 66,
   "metadata": {},
   "outputs": [
    {
     "data": {
      "text/plain": [
       "Counter({'vieira19_Alveoli_and_parenchyma_anonymised': 11980,\n",
       "         'madissoon19_lung': 16678,\n",
       "         'baron16': 7714,\n",
       "         'guo18_donor': 6199,\n",
       "         'henry18_0': 14630,\n",
       "         'james20': 15775,\n",
       "         'macparland18': 8444,\n",
       "         'stewart19_adult': 14216,\n",
       "         'voigt19': 4335,\n",
       "         'menon19': 13708,\n",
       "         'wang20_colon': 4329,\n",
       "         'wang20_ileum': 5980,\n",
       "         'wang20_rectum': 3797,\n",
       "         'tucker20_heart': 16283,\n",
       "         'HQ.Dinh': 4715,\n",
       "         'pal20_breast': 18149,\n",
       "         'Ankur_Sharma': 18966,\n",
       "         'Lichun.Ma': 17915,\n",
       "         'OH.Lee': 50569,\n",
       "         'Junbin.Qian': 25029,\n",
       "         'Qian': 16009,\n",
       "         'di.Magliano.MP': 18694,\n",
       "         'Sun.BaoFa': 26797,\n",
       "         'Sunny.Z.Wu': 33094})"
      ]
     },
     "execution_count": 66,
     "metadata": {},
     "output_type": "execute_result"
    }
   ],
   "source": [
    "Counter(adsketch.obs['Author'])"
   ]
  },
  {
   "cell_type": "code",
   "execution_count": 67,
   "metadata": {},
   "outputs": [
    {
     "data": {
      "text/plain": [
       "Counter({'Lung': 28658,\n",
       "         'Pancreas': 7714,\n",
       "         'Testis': 6199,\n",
       "         'Prostate': 14630,\n",
       "         'Colon': 20104,\n",
       "         'Liver': 8444,\n",
       "         'Kidney': 14216,\n",
       "         'Retina': 18043,\n",
       "         'Ileum': 5980,\n",
       "         'Rectum': 3797,\n",
       "         'Heart': 16283,\n",
       "         'Fallopian_tube': 4715,\n",
       "         'Breast': 18149,\n",
       "         'Liver_Cancer': 36881,\n",
       "         'Ovary_Cancer': 15593,\n",
       "         'Lung_Cancer': 32957,\n",
       "         'Colon_Cancer': 34804,\n",
       "         'Pancreas_Cancer': 45491,\n",
       "         'Breast_Cancer': 41347})"
      ]
     },
     "execution_count": 67,
     "metadata": {},
     "output_type": "execute_result"
    }
   ],
   "source": [
    "Counter(adsketch.obs['Organ'])"
   ]
  },
  {
   "cell_type": "code",
   "execution_count": 72,
   "metadata": {},
   "outputs": [
    {
     "name": "stderr",
     "output_type": "stream",
     "text": [
      "/home/junho/anaconda3/envs/py37/lib/python3.7/site-packages/anndata/_core/anndata.py:1210: ImplicitModificationWarning: Initializing view as actual.\n",
      "  \"Initializing view as actual.\", ImplicitModificationWarning\n",
      "Trying to set attribute `.obs` of view, copying.\n",
      "... storing 'Author' as categorical\n",
      "Trying to set attribute `.obs` of view, copying.\n",
      "... storing 'Organ' as categorical\n",
      "Trying to set attribute `.obs` of view, copying.\n",
      "... storing 'Organ_Specific' as categorical\n",
      "Trying to set attribute `.obs` of view, copying.\n",
      "... storing 'CellType_original' as categorical\n",
      "Trying to set attribute `.obs` of view, copying.\n",
      "... storing 'Batch' as categorical\n",
      "Trying to set attribute `.obs` of view, copying.\n",
      "... storing 'CellType' as categorical\n",
      "Trying to set attribute `.obs` of view, copying.\n",
      "... storing 'Method' as categorical\n",
      "Trying to set attribute `.obs` of view, copying.\n",
      "... storing 'name' as categorical\n"
     ]
    }
   ],
   "source": [
    "adsketch.write('%shca_cancer_merge/%s%s.h5ad'%(base_folder, version, 'hca_cancer_merge_sketch2_211116'))"
   ]
  }
 ],
 "metadata": {
  "kernelspec": {
   "display_name": "Python 3 (ipykernel)",
   "language": "python",
   "name": "python3"
  },
  "language_info": {
   "codemirror_mode": {
    "name": "ipython",
    "version": 3
   },
   "file_extension": ".py",
   "mimetype": "text/x-python",
   "name": "python",
   "nbconvert_exporter": "python",
   "pygments_lexer": "ipython3",
   "version": "3.8.5"
  }
 },
 "nbformat": 4,
 "nbformat_minor": 4
}
